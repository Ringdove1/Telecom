{
 "cells": [
  {
   "cell_type": "markdown",
   "metadata": {},
   "source": [
    "# Телеком — Определение неэффективных операторов\n",
    "В качестве заказчика выступает компания \"Нупозвони\" - провайдер виртуальной телефонии.\n",
    "\n",
    "Клиентами этой компании являются кол-центры, которые:\n",
    "\n",
    "- распределяют входящие вызовы на операторов;\n",
    "- совершают исходящие вызовы силами операторов."
   ]
  },
  {
   "cell_type": "markdown",
   "metadata": {},
   "source": [
    "### Цель исследования:\n",
    "На основании имеющихся данных выявить самых неэффективных операторов."
   ]
  },
  {
   "cell_type": "markdown",
   "metadata": {},
   "source": [
    "### Задачи исследования:\n",
    "- Описать поведения клиентов провайдера виртуальной телефонии, а именно:\n",
    "  - выяснить, как отличается средняя продолжительность звонков, средние значения по количеству звонков, а также, среднее время ожидания операторов для каждого из тарифа ;\n",
    "  - построить гистограммы распределения средней продолжительности звонков для операторов каждого из тарифа;\n",
    "  - построить гистограммы распределения количества исходящих и входящих звонков для каждого из тарифа;\n",
    "  - определить долю пропущенных входящих вызовов для каждого оператора.\n",
    "- Выявить неэффективных операторов;\n",
    "- Проверить статистические гипотезы:\n",
    "  - среднее время ожидания для входящих звонков у операторов на тарифе A и В - отличается;\n",
    "  - среднее количество совершенных звонков у операторов на тарифах В и С - отличается.\n",
    "- Подготовить презентацию;\n",
    "- Сформировать дашборд."
   ]
  },
  {
   "cell_type": "markdown",
   "metadata": {},
   "source": [
    "### Исходные данные:\n",
    "Таблица telecom_dataset (информация о звонках) :\n",
    "\n",
    "- user_id — Идентификатор клиентского аккаунта в сервисе;\n",
    "- date — Дата статистики;\n",
    "- direction — Направление вызовов (out - исходящий вызов, in — входящий вызов);\n",
    "- internal — Является ли звонок внутренним звонком между операторами клиента;\n",
    "- operator_id — Идентификатор оператора;\n",
    "- is_missed_call — Является ли звонок пропущенным;\n",
    "- calls_count — Количество звонков;\n",
    "- call_duration — Длительность звонка (без учета времени ожидания);\n",
    "- total_call_duration — Длительность звонка (с учетом времени ожидания).\n",
    "\n",
    "Таблица telecom_clients (информация о клиентах):\n",
    "\n",
    "- user_id — Идентификатор клиентского аккаунта в сервисе;\n",
    "- tariff_plan — Текущий тарифный план клиента;\n",
    "- date_start — Дата регистрации клиентв в сервисе."
   ]
  },
  {
   "cell_type": "markdown",
   "metadata": {},
   "source": [
    "## Материалы\n",
    "* [Презентация](https://drive.google.com/file/d/1Wz7coU3uHRtXx33CDbESteEBun7nk6AA/view?usp=sharing)\n",
    "* [Дашборд](https://public.tableau.com/views/asnep_dashb_nupozvoni/Dashboard1?:language=en-US&publish=yes&:display_count=n&:origin=viz_share_link) "
   ]
  },
  {
   "cell_type": "markdown",
   "metadata": {},
   "source": [
    "##  Изучение общей информации о имеющихся данных"
   ]
  },
  {
   "cell_type": "code",
   "execution_count": 3,
   "metadata": {},
   "outputs": [],
   "source": [
    "import pandas as pd\n",
    "import pathlib\n",
    "\n",
    "import matplotlib.pyplot as plt\n",
    "import seaborn as sns\n",
    "import warnings\n",
    "warnings.filterwarnings('ignore')"
   ]
  },
  {
   "cell_type": "code",
   "execution_count": 4,
   "metadata": {},
   "outputs": [
    {
     "data": {
      "text/html": [
       "<div>\n",
       "<style scoped>\n",
       "    .dataframe tbody tr th:only-of-type {\n",
       "        vertical-align: middle;\n",
       "    }\n",
       "\n",
       "    .dataframe tbody tr th {\n",
       "        vertical-align: top;\n",
       "    }\n",
       "\n",
       "    .dataframe thead th {\n",
       "        text-align: right;\n",
       "    }\n",
       "</style>\n",
       "<table border=\"1\" class=\"dataframe\">\n",
       "  <thead>\n",
       "    <tr style=\"text-align: right;\">\n",
       "      <th></th>\n",
       "      <th>user_id</th>\n",
       "      <th>date</th>\n",
       "      <th>direction</th>\n",
       "      <th>internal</th>\n",
       "      <th>operator_id</th>\n",
       "      <th>is_missed_call</th>\n",
       "      <th>calls_count</th>\n",
       "      <th>call_duration</th>\n",
       "      <th>total_call_duration</th>\n",
       "    </tr>\n",
       "  </thead>\n",
       "  <tbody>\n",
       "    <tr>\n",
       "      <th>0</th>\n",
       "      <td>166377</td>\n",
       "      <td>2019-08-04 00:00:00+03:00</td>\n",
       "      <td>in</td>\n",
       "      <td>False</td>\n",
       "      <td>NaN</td>\n",
       "      <td>True</td>\n",
       "      <td>2</td>\n",
       "      <td>0</td>\n",
       "      <td>4</td>\n",
       "    </tr>\n",
       "    <tr>\n",
       "      <th>1</th>\n",
       "      <td>166377</td>\n",
       "      <td>2019-08-05 00:00:00+03:00</td>\n",
       "      <td>out</td>\n",
       "      <td>True</td>\n",
       "      <td>880022.0</td>\n",
       "      <td>True</td>\n",
       "      <td>3</td>\n",
       "      <td>0</td>\n",
       "      <td>5</td>\n",
       "    </tr>\n",
       "    <tr>\n",
       "      <th>2</th>\n",
       "      <td>166377</td>\n",
       "      <td>2019-08-05 00:00:00+03:00</td>\n",
       "      <td>out</td>\n",
       "      <td>True</td>\n",
       "      <td>880020.0</td>\n",
       "      <td>True</td>\n",
       "      <td>1</td>\n",
       "      <td>0</td>\n",
       "      <td>1</td>\n",
       "    </tr>\n",
       "    <tr>\n",
       "      <th>3</th>\n",
       "      <td>166377</td>\n",
       "      <td>2019-08-05 00:00:00+03:00</td>\n",
       "      <td>out</td>\n",
       "      <td>True</td>\n",
       "      <td>880020.0</td>\n",
       "      <td>False</td>\n",
       "      <td>1</td>\n",
       "      <td>10</td>\n",
       "      <td>18</td>\n",
       "    </tr>\n",
       "    <tr>\n",
       "      <th>4</th>\n",
       "      <td>166377</td>\n",
       "      <td>2019-08-05 00:00:00+03:00</td>\n",
       "      <td>out</td>\n",
       "      <td>False</td>\n",
       "      <td>880022.0</td>\n",
       "      <td>True</td>\n",
       "      <td>3</td>\n",
       "      <td>0</td>\n",
       "      <td>25</td>\n",
       "    </tr>\n",
       "  </tbody>\n",
       "</table>\n",
       "</div>"
      ],
      "text/plain": [
       "   user_id                       date direction internal  operator_id  \\\n",
       "0   166377  2019-08-04 00:00:00+03:00        in    False          NaN   \n",
       "1   166377  2019-08-05 00:00:00+03:00       out     True     880022.0   \n",
       "2   166377  2019-08-05 00:00:00+03:00       out     True     880020.0   \n",
       "3   166377  2019-08-05 00:00:00+03:00       out     True     880020.0   \n",
       "4   166377  2019-08-05 00:00:00+03:00       out    False     880022.0   \n",
       "\n",
       "   is_missed_call  calls_count  call_duration  total_call_duration  \n",
       "0            True            2              0                    4  \n",
       "1            True            3              0                    5  \n",
       "2            True            1              0                    1  \n",
       "3           False            1             10                   18  \n",
       "4            True            3              0                   25  "
      ]
     },
     "metadata": {},
     "output_type": "display_data"
    },
    {
     "data": {
      "text/html": [
       "<div>\n",
       "<style scoped>\n",
       "    .dataframe tbody tr th:only-of-type {\n",
       "        vertical-align: middle;\n",
       "    }\n",
       "\n",
       "    .dataframe tbody tr th {\n",
       "        vertical-align: top;\n",
       "    }\n",
       "\n",
       "    .dataframe thead th {\n",
       "        text-align: right;\n",
       "    }\n",
       "</style>\n",
       "<table border=\"1\" class=\"dataframe\">\n",
       "  <thead>\n",
       "    <tr style=\"text-align: right;\">\n",
       "      <th></th>\n",
       "      <th>user_id</th>\n",
       "      <th>tariff_plan</th>\n",
       "      <th>date_start</th>\n",
       "    </tr>\n",
       "  </thead>\n",
       "  <tbody>\n",
       "    <tr>\n",
       "      <th>0</th>\n",
       "      <td>166713</td>\n",
       "      <td>A</td>\n",
       "      <td>2019-08-15</td>\n",
       "    </tr>\n",
       "    <tr>\n",
       "      <th>1</th>\n",
       "      <td>166901</td>\n",
       "      <td>A</td>\n",
       "      <td>2019-08-23</td>\n",
       "    </tr>\n",
       "    <tr>\n",
       "      <th>2</th>\n",
       "      <td>168527</td>\n",
       "      <td>A</td>\n",
       "      <td>2019-10-29</td>\n",
       "    </tr>\n",
       "    <tr>\n",
       "      <th>3</th>\n",
       "      <td>167097</td>\n",
       "      <td>A</td>\n",
       "      <td>2019-09-01</td>\n",
       "    </tr>\n",
       "    <tr>\n",
       "      <th>4</th>\n",
       "      <td>168193</td>\n",
       "      <td>A</td>\n",
       "      <td>2019-10-16</td>\n",
       "    </tr>\n",
       "  </tbody>\n",
       "</table>\n",
       "</div>"
      ],
      "text/plain": [
       "   user_id tariff_plan  date_start\n",
       "0   166713           A  2019-08-15\n",
       "1   166901           A  2019-08-23\n",
       "2   168527           A  2019-10-29\n",
       "3   167097           A  2019-09-01\n",
       "4   168193           A  2019-10-16"
      ]
     },
     "metadata": {},
     "output_type": "display_data"
    },
    {
     "name": "stdout",
     "output_type": "stream",
     "text": [
      "<class 'pandas.core.frame.DataFrame'>\n",
      "RangeIndex: 53902 entries, 0 to 53901\n",
      "Data columns (total 9 columns):\n",
      " #   Column               Non-Null Count  Dtype  \n",
      "---  ------               --------------  -----  \n",
      " 0   user_id              53902 non-null  int64  \n",
      " 1   date                 53902 non-null  object \n",
      " 2   direction            53902 non-null  object \n",
      " 3   internal             53785 non-null  object \n",
      " 4   operator_id          45730 non-null  float64\n",
      " 5   is_missed_call       53902 non-null  bool   \n",
      " 6   calls_count          53902 non-null  int64  \n",
      " 7   call_duration        53902 non-null  int64  \n",
      " 8   total_call_duration  53902 non-null  int64  \n",
      "dtypes: bool(1), float64(1), int64(4), object(3)\n",
      "memory usage: 3.3+ MB\n"
     ]
    },
    {
     "data": {
      "text/plain": [
       "None"
      ]
     },
     "metadata": {},
     "output_type": "display_data"
    },
    {
     "data": {
      "text/html": [
       "<div>\n",
       "<style scoped>\n",
       "    .dataframe tbody tr th:only-of-type {\n",
       "        vertical-align: middle;\n",
       "    }\n",
       "\n",
       "    .dataframe tbody tr th {\n",
       "        vertical-align: top;\n",
       "    }\n",
       "\n",
       "    .dataframe thead th {\n",
       "        text-align: right;\n",
       "    }\n",
       "</style>\n",
       "<table border=\"1\" class=\"dataframe\">\n",
       "  <thead>\n",
       "    <tr style=\"text-align: right;\">\n",
       "      <th></th>\n",
       "      <th>count</th>\n",
       "      <th>mean</th>\n",
       "      <th>std</th>\n",
       "      <th>min</th>\n",
       "      <th>25%</th>\n",
       "      <th>50%</th>\n",
       "      <th>75%</th>\n",
       "      <th>max</th>\n",
       "    </tr>\n",
       "  </thead>\n",
       "  <tbody>\n",
       "    <tr>\n",
       "      <th>user_id</th>\n",
       "      <td>53902.0</td>\n",
       "      <td>167295.344477</td>\n",
       "      <td>598.883775</td>\n",
       "      <td>166377.0</td>\n",
       "      <td>166782.0</td>\n",
       "      <td>167162.0</td>\n",
       "      <td>167819.0</td>\n",
       "      <td>168606.0</td>\n",
       "    </tr>\n",
       "    <tr>\n",
       "      <th>operator_id</th>\n",
       "      <td>45730.0</td>\n",
       "      <td>916535.993002</td>\n",
       "      <td>21254.123136</td>\n",
       "      <td>879896.0</td>\n",
       "      <td>900788.0</td>\n",
       "      <td>913938.0</td>\n",
       "      <td>937708.0</td>\n",
       "      <td>973286.0</td>\n",
       "    </tr>\n",
       "    <tr>\n",
       "      <th>calls_count</th>\n",
       "      <td>53902.0</td>\n",
       "      <td>16.451245</td>\n",
       "      <td>62.917170</td>\n",
       "      <td>1.0</td>\n",
       "      <td>1.0</td>\n",
       "      <td>4.0</td>\n",
       "      <td>12.0</td>\n",
       "      <td>4817.0</td>\n",
       "    </tr>\n",
       "    <tr>\n",
       "      <th>call_duration</th>\n",
       "      <td>53902.0</td>\n",
       "      <td>866.684427</td>\n",
       "      <td>3731.791202</td>\n",
       "      <td>0.0</td>\n",
       "      <td>0.0</td>\n",
       "      <td>38.0</td>\n",
       "      <td>572.0</td>\n",
       "      <td>144395.0</td>\n",
       "    </tr>\n",
       "    <tr>\n",
       "      <th>total_call_duration</th>\n",
       "      <td>53902.0</td>\n",
       "      <td>1157.133297</td>\n",
       "      <td>4403.468763</td>\n",
       "      <td>0.0</td>\n",
       "      <td>47.0</td>\n",
       "      <td>210.0</td>\n",
       "      <td>902.0</td>\n",
       "      <td>166155.0</td>\n",
       "    </tr>\n",
       "  </tbody>\n",
       "</table>\n",
       "</div>"
      ],
      "text/plain": [
       "                       count           mean           std       min       25%  \\\n",
       "user_id              53902.0  167295.344477    598.883775  166377.0  166782.0   \n",
       "operator_id          45730.0  916535.993002  21254.123136  879896.0  900788.0   \n",
       "calls_count          53902.0      16.451245     62.917170       1.0       1.0   \n",
       "call_duration        53902.0     866.684427   3731.791202       0.0       0.0   \n",
       "total_call_duration  53902.0    1157.133297   4403.468763       0.0      47.0   \n",
       "\n",
       "                          50%       75%       max  \n",
       "user_id              167162.0  167819.0  168606.0  \n",
       "operator_id          913938.0  937708.0  973286.0  \n",
       "calls_count               4.0      12.0    4817.0  \n",
       "call_duration            38.0     572.0  144395.0  \n",
       "total_call_duration     210.0     902.0  166155.0  "
      ]
     },
     "metadata": {},
     "output_type": "display_data"
    }
   ],
   "source": [
    "#прочитаем из csv-файла данные с описанием \n",
    "path_1 = pathlib.Path('C:/') / 'Ya' / 'datas' / 'telecom_dataset.csv'\n",
    "path_2 = pathlib.Path('C:/') / 'Ya' / 'datas' / 'telecom_clients.csv'\n",
    "df_1 = pd.read_csv(path_1)\n",
    "df_2 = pd.read_csv(path_2)\n",
    "display(df_1.head()) # выводим первые 5 строк датафрейма\n",
    "display(df_2.head())\n",
    "display(df_1.info()) # смотрим общую информацию о данных\n",
    "display(df_1.describe().T) # для наглядного изучения среднего значения, стандартного отклонения и т.д."
   ]
  },
  {
   "cell_type": "markdown",
   "metadata": {},
   "source": [
    "Таблица с информацией о звонках содержит:\n",
    "- 53 902 строки и 9 полей;\n",
    "- отсутствующие значения в полях \"internal\" и \"operator_id\";\n",
    "- информация о дате хранится в неудобном для дальнейшего исследования формате;\n",
    "- в поле \"is_missed_call\" данные имеют булев тип данных.\n",
    "\n",
    "Данные о пользователях:\n",
    "- 732 строки и 3 столбца."
   ]
  },
  {
   "cell_type": "markdown",
   "metadata": {},
   "source": [
    "## Подготовка данных"
   ]
  },
  {
   "cell_type": "markdown",
   "metadata": {},
   "source": [
    "**Оценим объем пропусков в значениях:** "
   ]
  },
  {
   "cell_type": "code",
   "execution_count": 5,
   "metadata": {},
   "outputs": [
    {
     "data": {
      "text/plain": [
       "user_id                0.000000\n",
       "date                   0.000000\n",
       "direction              0.000000\n",
       "internal               0.002171\n",
       "operator_id            0.151608\n",
       "is_missed_call         0.000000\n",
       "calls_count            0.000000\n",
       "call_duration          0.000000\n",
       "total_call_duration    0.000000\n",
       "dtype: float64"
      ]
     },
     "execution_count": 5,
     "metadata": {},
     "output_type": "execute_result"
    }
   ],
   "source": [
    "df_1.isna().mean()"
   ]
  },
  {
   "cell_type": "markdown",
   "metadata": {},
   "source": [
    "В поле \"internal\" менее 1% пропущенных значений - такие строки попросту удалим, а вот поле с информацией о идентификаторе оператора имеет 15% пропущенных значений - для этих значений введём  маркер \"8\" и заполним им пропущенные значения этого поля."
   ]
  },
  {
   "cell_type": "code",
   "execution_count": 6,
   "metadata": {},
   "outputs": [
    {
     "data": {
      "text/plain": [
       "user_id                0.0\n",
       "date                   0.0\n",
       "direction              0.0\n",
       "internal               0.0\n",
       "operator_id            0.0\n",
       "is_missed_call         0.0\n",
       "calls_count            0.0\n",
       "call_duration          0.0\n",
       "total_call_duration    0.0\n",
       "dtype: float64"
      ]
     },
     "execution_count": 6,
     "metadata": {},
     "output_type": "execute_result"
    }
   ],
   "source": [
    "df_1.dropna(subset=['internal'],inplace=True) # удаляем строки с пропусками\n",
    "\n",
    "df_1.loc[df_1['operator_id'].isna(), 'operator_id'] = 8 # заменяем пропуски на маркер\n",
    "df_1.isna().mean() # проверяем корректность работы"
   ]
  },
  {
   "cell_type": "markdown",
   "metadata": {},
   "source": [
    "Теперь в данных о зваонках отсутствуют пропуски, но не стоит забывать о введёном маркере."
   ]
  },
  {
   "cell_type": "markdown",
   "metadata": {},
   "source": [
    "**Приведём поле с информацией о дате звонка в правильный формат:**"
   ]
  },
  {
   "cell_type": "code",
   "execution_count": 7,
   "metadata": {},
   "outputs": [],
   "source": [
    "df_1['date'] = pd.to_datetime(df_1['date'], format='%Y-%m-%d %H:%M:%S')"
   ]
  },
  {
   "cell_type": "markdown",
   "metadata": {},
   "source": [
    "Имеющиейся набор данных готов к дальнейшему исследованию"
   ]
  },
  {
   "cell_type": "markdown",
   "metadata": {},
   "source": [
    "## Исследовательский анализ данных\n",
    "\n",
    "**Объединим имеющиеся даныые**"
   ]
  },
  {
   "cell_type": "code",
   "execution_count": 8,
   "metadata": {},
   "outputs": [
    {
     "data": {
      "text/html": [
       "<div>\n",
       "<style scoped>\n",
       "    .dataframe tbody tr th:only-of-type {\n",
       "        vertical-align: middle;\n",
       "    }\n",
       "\n",
       "    .dataframe tbody tr th {\n",
       "        vertical-align: top;\n",
       "    }\n",
       "\n",
       "    .dataframe thead th {\n",
       "        text-align: right;\n",
       "    }\n",
       "</style>\n",
       "<table border=\"1\" class=\"dataframe\">\n",
       "  <thead>\n",
       "    <tr style=\"text-align: right;\">\n",
       "      <th></th>\n",
       "      <th>user_id</th>\n",
       "      <th>date</th>\n",
       "      <th>direction</th>\n",
       "      <th>internal</th>\n",
       "      <th>operator_id</th>\n",
       "      <th>is_missed_call</th>\n",
       "      <th>calls_count</th>\n",
       "      <th>call_duration</th>\n",
       "      <th>total_call_duration</th>\n",
       "      <th>tariff_plan</th>\n",
       "      <th>date_start</th>\n",
       "    </tr>\n",
       "  </thead>\n",
       "  <tbody>\n",
       "    <tr>\n",
       "      <th>0</th>\n",
       "      <td>166377</td>\n",
       "      <td>2019-08-04 00:00:00+03:00</td>\n",
       "      <td>in</td>\n",
       "      <td>False</td>\n",
       "      <td>8.0</td>\n",
       "      <td>True</td>\n",
       "      <td>2</td>\n",
       "      <td>0</td>\n",
       "      <td>4</td>\n",
       "      <td>B</td>\n",
       "      <td>2019-08-01</td>\n",
       "    </tr>\n",
       "    <tr>\n",
       "      <th>1</th>\n",
       "      <td>166377</td>\n",
       "      <td>2019-08-05 00:00:00+03:00</td>\n",
       "      <td>out</td>\n",
       "      <td>True</td>\n",
       "      <td>880022.0</td>\n",
       "      <td>True</td>\n",
       "      <td>3</td>\n",
       "      <td>0</td>\n",
       "      <td>5</td>\n",
       "      <td>B</td>\n",
       "      <td>2019-08-01</td>\n",
       "    </tr>\n",
       "    <tr>\n",
       "      <th>2</th>\n",
       "      <td>166377</td>\n",
       "      <td>2019-08-05 00:00:00+03:00</td>\n",
       "      <td>out</td>\n",
       "      <td>True</td>\n",
       "      <td>880020.0</td>\n",
       "      <td>True</td>\n",
       "      <td>1</td>\n",
       "      <td>0</td>\n",
       "      <td>1</td>\n",
       "      <td>B</td>\n",
       "      <td>2019-08-01</td>\n",
       "    </tr>\n",
       "    <tr>\n",
       "      <th>3</th>\n",
       "      <td>166377</td>\n",
       "      <td>2019-08-05 00:00:00+03:00</td>\n",
       "      <td>out</td>\n",
       "      <td>True</td>\n",
       "      <td>880020.0</td>\n",
       "      <td>False</td>\n",
       "      <td>1</td>\n",
       "      <td>10</td>\n",
       "      <td>18</td>\n",
       "      <td>B</td>\n",
       "      <td>2019-08-01</td>\n",
       "    </tr>\n",
       "    <tr>\n",
       "      <th>4</th>\n",
       "      <td>166377</td>\n",
       "      <td>2019-08-05 00:00:00+03:00</td>\n",
       "      <td>out</td>\n",
       "      <td>False</td>\n",
       "      <td>880022.0</td>\n",
       "      <td>True</td>\n",
       "      <td>3</td>\n",
       "      <td>0</td>\n",
       "      <td>25</td>\n",
       "      <td>B</td>\n",
       "      <td>2019-08-01</td>\n",
       "    </tr>\n",
       "  </tbody>\n",
       "</table>\n",
       "</div>"
      ],
      "text/plain": [
       "   user_id                      date direction internal  operator_id  \\\n",
       "0   166377 2019-08-04 00:00:00+03:00        in    False          8.0   \n",
       "1   166377 2019-08-05 00:00:00+03:00       out     True     880022.0   \n",
       "2   166377 2019-08-05 00:00:00+03:00       out     True     880020.0   \n",
       "3   166377 2019-08-05 00:00:00+03:00       out     True     880020.0   \n",
       "4   166377 2019-08-05 00:00:00+03:00       out    False     880022.0   \n",
       "\n",
       "   is_missed_call  calls_count  call_duration  total_call_duration  \\\n",
       "0            True            2              0                    4   \n",
       "1            True            3              0                    5   \n",
       "2            True            1              0                    1   \n",
       "3           False            1             10                   18   \n",
       "4            True            3              0                   25   \n",
       "\n",
       "  tariff_plan  date_start  \n",
       "0           B  2019-08-01  \n",
       "1           B  2019-08-01  \n",
       "2           B  2019-08-01  \n",
       "3           B  2019-08-01  \n",
       "4           B  2019-08-01  "
      ]
     },
     "metadata": {},
     "output_type": "display_data"
    }
   ],
   "source": [
    "data = df_1.merge(df_2, on=['user_id'], how='inner')\n",
    "display(data.head())"
   ]
  },
  {
   "cell_type": "markdown",
   "metadata": {},
   "source": [
    "**Добавим к данным следующие поля:**\n",
    "- среднюю продолжительность звонков;\n",
    "- время ожидания;\n",
    "- день когда был совершён звонок."
   ]
  },
  {
   "cell_type": "code",
   "execution_count": 9,
   "metadata": {},
   "outputs": [],
   "source": [
    "data['duration'] = data['total_call_duration'] / data['calls_count']\n",
    "data['wait_time'] = (data['total_call_duration'] - data['call_duration']) / data['calls_count']\n",
    "data['day'] = data['date'].dt.to_period('D')"
   ]
  },
  {
   "cell_type": "markdown",
   "metadata": {},
   "source": [
    "**Выясним, как отличается средняя продолжительность звонков, средние значения по количеству звонков, а также, среднее время ожидания операторов для каждого из тарифа**"
   ]
  },
  {
   "cell_type": "code",
   "execution_count": 10,
   "metadata": {},
   "outputs": [
    {
     "data": {
      "text/html": [
       "<div>\n",
       "<style scoped>\n",
       "    .dataframe tbody tr th:only-of-type {\n",
       "        vertical-align: middle;\n",
       "    }\n",
       "\n",
       "    .dataframe tbody tr th {\n",
       "        vertical-align: top;\n",
       "    }\n",
       "\n",
       "    .dataframe thead th {\n",
       "        text-align: right;\n",
       "    }\n",
       "</style>\n",
       "<table border=\"1\" class=\"dataframe\">\n",
       "  <thead>\n",
       "    <tr style=\"text-align: right;\">\n",
       "      <th></th>\n",
       "      <th>calls_count</th>\n",
       "      <th>duration</th>\n",
       "      <th>total_call_duration</th>\n",
       "      <th>wait_time</th>\n",
       "    </tr>\n",
       "    <tr>\n",
       "      <th>tariff_plan</th>\n",
       "      <th></th>\n",
       "      <th></th>\n",
       "      <th></th>\n",
       "      <th></th>\n",
       "    </tr>\n",
       "  </thead>\n",
       "  <tbody>\n",
       "    <tr>\n",
       "      <th>A</th>\n",
       "      <td>32.594553</td>\n",
       "      <td>78.502624</td>\n",
       "      <td>2216.733759</td>\n",
       "      <td>17.204320</td>\n",
       "    </tr>\n",
       "    <tr>\n",
       "      <th>B</th>\n",
       "      <td>9.487304</td>\n",
       "      <td>94.719338</td>\n",
       "      <td>768.837865</td>\n",
       "      <td>17.386041</td>\n",
       "    </tr>\n",
       "    <tr>\n",
       "      <th>C</th>\n",
       "      <td>11.118485</td>\n",
       "      <td>76.675568</td>\n",
       "      <td>742.865624</td>\n",
       "      <td>16.076694</td>\n",
       "    </tr>\n",
       "  </tbody>\n",
       "</table>\n",
       "</div>"
      ],
      "text/plain": [
       "             calls_count   duration  total_call_duration  wait_time\n",
       "tariff_plan                                                        \n",
       "A              32.594553  78.502624          2216.733759  17.204320\n",
       "B               9.487304  94.719338           768.837865  17.386041\n",
       "C              11.118485  76.675568           742.865624  16.076694"
      ]
     },
     "metadata": {},
     "output_type": "display_data"
    }
   ],
   "source": [
    "pivot1 = data.pivot_table(index = 'tariff_plan', values =['duration', 'calls_count', 'wait_time', 'total_call_duration'] )\n",
    "display(pivot1)"
   ]
  },
  {
   "cell_type": "markdown",
   "metadata": {},
   "source": [
    "Из получившейся сводной таблицы видим:\n",
    "- у операторов на тарифном плане А значения времени ожидания значительно выше остальных;\n",
    "- наибольшее количество звонков приходится на операторов тарифа А;\n",
    "- на тарифе В наблюдается самая высокая продолжительность звонков при самом низком количестве сделанных звонков;\n",
    "- операторы на тарифном плане В имеют самое низкое время ожидания;\n",
    "- что касается тарифного плана С, то его рассматриваемые параметры близки к параметрам тарифа В."
   ]
  },
  {
   "cell_type": "markdown",
   "metadata": {},
   "source": [
    "**Визуализируем распределение параметров для каждого из имеющихся тарифов**"
   ]
  },
  {
   "cell_type": "code",
   "execution_count": 11,
   "metadata": {},
   "outputs": [],
   "source": [
    "def get_hist(tariff_name_1, tariff_name_2, tariff_name_3, service, title_1, title_2, title_3, x_label):\n",
    "    \"\"\" Эта функция для созданя гистограмм.\n",
    "    \n",
    "    На вход она принимает: название рассматриваемых тарифов, показатель по которому строим распределение,\n",
    "    названия заголовков и подпись по оси Х\n",
    "    \"\"\"\n",
    "    fig, (ax1, ax2, ax3) = plt.subplots(1, 3, figsize=(15, 5))\n",
    "\n",
    "    ax1.hist(data.loc[data['tariff_plan'] == tariff_name_1, service], range(0, 100))\n",
    "    ax1.set_title(title_1)\n",
    "    ax1.set_xlabel(x_label)\n",
    "\n",
    "    ax2.hist(data.loc[data['tariff_plan'] == tariff_name_2, service], range(0, 100))\n",
    "    ax2.set_title(title_2)\n",
    "    ax2.set_xlabel(x_label)\n",
    "    \n",
    "    ax3.hist(data.loc[data['tariff_plan'] == tariff_name_3, service], range(0, 100))\n",
    "    ax3.set_title(title_3)\n",
    "    ax3.set_xlabel(x_label)\n",
    "    plt.show()\n",
    "    pass"
   ]
  },
  {
   "cell_type": "code",
   "execution_count": 12,
   "metadata": {},
   "outputs": [
    {
     "data": {
      "image/png": "[encoded data removed]",
      "text/plain": [
       "<Figure size 1080x360 with 3 Axes>"
      ]
     },
     "metadata": {
      "needs_background": "light"
     },
     "output_type": "display_data"
    }
   ],
   "source": [
    "get_hist('A', 'B', 'C', 'calls_count'\n",
    "         , 'кол-во звонков тарифа А'\n",
    "         , 'кол-во звонков тарифа B'\n",
    "         , 'кол-во звонков тарифа C'\n",
    "         , 'кол-во звонков')"
   ]
  },
  {
   "cell_type": "code",
   "execution_count": 13,
   "metadata": {},
   "outputs": [
    {
     "data": {
      "image/png": "[encoded data removed]",
      "text/plain": [
       "<Figure size 1080x360 with 3 Axes>"
      ]
     },
     "metadata": {
      "needs_background": "light"
     },
     "output_type": "display_data"
    }
   ],
   "source": [
    "get_hist('A', 'B', 'C', 'wait_time'\n",
    "         , 'время ожидания на тарифе А'\n",
    "         , 'время ожидания на тарифе B'\n",
    "         , 'время ожидания на тарифе C'\n",
    "         , 'время')"
   ]
  },
  {
   "cell_type": "code",
   "execution_count": 14,
   "metadata": {},
   "outputs": [
    {
     "data": {
      "image/png": "[encoded data removed]",
      "text/plain": [
       "<Figure size 1080x360 with 3 Axes>"
      ]
     },
     "metadata": {
      "needs_background": "light"
     },
     "output_type": "display_data"
    }
   ],
   "source": [
    "get_hist('A', 'B', 'C', 'duration'\n",
    "         , 'продолжительность звонков тарифа А'\n",
    "         , 'продолжительность звонков тарифа B'\n",
    "         , 'продолжительность звонков тарифа C'\n",
    "         , 'время')"
   ]
  },
  {
   "cell_type": "markdown",
   "metadata": {},
   "source": [
    "На предствленной визуализации видим, что распределения рассматриваемых параметров у тарифов А, В и С происходит очень похоже.\n",
    "Вероятно, сводная таблица по средним значениям дала искаженные результаты из-зы выбросов.\n",
    "\n",
    "Убедимся в этом, для этого построим сводную таблицу с медианными значениями"
   ]
  },
  {
   "cell_type": "code",
   "execution_count": 15,
   "metadata": {},
   "outputs": [
    {
     "data": {
      "text/html": [
       "<div>\n",
       "<style scoped>\n",
       "    .dataframe tbody tr th:only-of-type {\n",
       "        vertical-align: middle;\n",
       "    }\n",
       "\n",
       "    .dataframe tbody tr th {\n",
       "        vertical-align: top;\n",
       "    }\n",
       "\n",
       "    .dataframe thead th {\n",
       "        text-align: right;\n",
       "    }\n",
       "</style>\n",
       "<table border=\"1\" class=\"dataframe\">\n",
       "  <thead>\n",
       "    <tr style=\"text-align: right;\">\n",
       "      <th></th>\n",
       "      <th>calls_count</th>\n",
       "      <th>duration</th>\n",
       "      <th>total_call_duration</th>\n",
       "      <th>wait_time</th>\n",
       "    </tr>\n",
       "    <tr>\n",
       "      <th>tariff_plan</th>\n",
       "      <th></th>\n",
       "      <th></th>\n",
       "      <th></th>\n",
       "      <th></th>\n",
       "    </tr>\n",
       "  </thead>\n",
       "  <tbody>\n",
       "    <tr>\n",
       "      <th>A</th>\n",
       "      <td>5</td>\n",
       "      <td>49.101010</td>\n",
       "      <td>360</td>\n",
       "      <td>16.000000</td>\n",
       "    </tr>\n",
       "    <tr>\n",
       "      <th>B</th>\n",
       "      <td>3</td>\n",
       "      <td>45.675439</td>\n",
       "      <td>187</td>\n",
       "      <td>14.230769</td>\n",
       "    </tr>\n",
       "    <tr>\n",
       "      <th>C</th>\n",
       "      <td>3</td>\n",
       "      <td>41.500000</td>\n",
       "      <td>169</td>\n",
       "      <td>14.000000</td>\n",
       "    </tr>\n",
       "  </tbody>\n",
       "</table>\n",
       "</div>"
      ],
      "text/plain": [
       "             calls_count   duration  total_call_duration  wait_time\n",
       "tariff_plan                                                        \n",
       "A                      5  49.101010                  360  16.000000\n",
       "B                      3  45.675439                  187  14.230769\n",
       "C                      3  41.500000                  169  14.000000"
      ]
     },
     "metadata": {},
     "output_type": "display_data"
    }
   ],
   "source": [
    "pivot2 = data.pivot_table(index = 'tariff_plan'\n",
    "                          , values =['duration', 'calls_count', 'wait_time', 'total_call_duration']\n",
    "                          , aggfunc = 'median')\n",
    "display(pivot2)"
   ]
  },
  {
   "cell_type": "markdown",
   "metadata": {},
   "source": [
    "- Время ожидания на тарифном плане А действительно больше чем у остальных, но не в 5 раз - как может показаться рассматривая данные по средним значениям;\n",
    "- Также видим, что продолжительность разговора по медианному значению на тарифном плане А, оказалась выше чем у остальных."
   ]
  },
  {
   "cell_type": "markdown",
   "metadata": {},
   "source": [
    "**Посмотрим, как распределено количество исходящих и входящих звонков на каждом из тарифов**"
   ]
  },
  {
   "cell_type": "code",
   "execution_count": 16,
   "metadata": {},
   "outputs": [
    {
     "data": {
      "text/html": [
       "<div>\n",
       "<style scoped>\n",
       "    .dataframe tbody tr th:only-of-type {\n",
       "        vertical-align: middle;\n",
       "    }\n",
       "\n",
       "    .dataframe tbody tr th {\n",
       "        vertical-align: top;\n",
       "    }\n",
       "\n",
       "    .dataframe thead th {\n",
       "        text-align: right;\n",
       "    }\n",
       "</style>\n",
       "<table border=\"1\" class=\"dataframe\">\n",
       "  <thead>\n",
       "    <tr style=\"text-align: right;\">\n",
       "      <th></th>\n",
       "      <th></th>\n",
       "      <th>calls_count</th>\n",
       "    </tr>\n",
       "    <tr>\n",
       "      <th>direction</th>\n",
       "      <th>tariff_plan</th>\n",
       "      <th></th>\n",
       "    </tr>\n",
       "  </thead>\n",
       "  <tbody>\n",
       "    <tr>\n",
       "      <th rowspan=\"3\" valign=\"top\">in</th>\n",
       "      <th>A</th>\n",
       "      <td>19.319352</td>\n",
       "    </tr>\n",
       "    <tr>\n",
       "      <th>B</th>\n",
       "      <td>7.692063</td>\n",
       "    </tr>\n",
       "    <tr>\n",
       "      <th>C</th>\n",
       "      <td>6.475155</td>\n",
       "    </tr>\n",
       "    <tr>\n",
       "      <th rowspan=\"3\" valign=\"top\">out</th>\n",
       "      <th>A</th>\n",
       "      <td>39.578202</td>\n",
       "    </tr>\n",
       "    <tr>\n",
       "      <th>B</th>\n",
       "      <td>10.680285</td>\n",
       "    </tr>\n",
       "    <tr>\n",
       "      <th>C</th>\n",
       "      <td>15.067505</td>\n",
       "    </tr>\n",
       "  </tbody>\n",
       "</table>\n",
       "</div>"
      ],
      "text/plain": [
       "                       calls_count\n",
       "direction tariff_plan             \n",
       "in        A              19.319352\n",
       "          B               7.692063\n",
       "          C               6.475155\n",
       "out       A              39.578202\n",
       "          B              10.680285\n",
       "          C              15.067505"
      ]
     },
     "execution_count": 16,
     "metadata": {},
     "output_type": "execute_result"
    }
   ],
   "source": [
    "data.pivot_table(index=['direction','tariff_plan'], values='calls_count')"
   ]
  },
  {
   "cell_type": "markdown",
   "metadata": {},
   "source": [
    "Судя по полученной таблице, операторы каждого из рассматриваемых тарифов, в большей степени, специализируются на исходящих звонках."
   ]
  },
  {
   "cell_type": "markdown",
   "metadata": {},
   "source": [
    "**Посмотрим на распределение пропущенных входящих звонков у операторов каждого из тарифа**\n",
    "\n",
    "Для этого построим диаграммы размаха, они же ящики с усами"
   ]
  },
  {
   "cell_type": "code",
   "execution_count": 17,
   "metadata": {},
   "outputs": [
    {
     "data": {
      "image/png": "[encoded data removed]",
      "text/plain": [
       "<Figure size 1080x504 with 1 Axes>"
      ]
     },
     "metadata": {
      "needs_background": "light"
     },
     "output_type": "display_data"
    }
   ],
   "source": [
    "# получаем сраз данных с пропущенными входящими звонками,\n",
    "# затем задаём параметры для оформления диаграмм размаха\n",
    "(\n",
    "    data.query('direction==\"in\" and is_missed_call==True ')\n",
    "    .pivot_table(index =['tariff_plan','operator_id'], values='calls_count', aggfunc='sum')\n",
    "    .reset_index()\n",
    "    .boxplot(column='calls_count', by='tariff_plan', figsize=(15,7))\n",
    ")\n",
    "plt.ylim(-1, 20)\n",
    "plt.title('Наглядный размах пропущенных входящих звонков')\n",
    "plt.ylabel('кол-во')\n",
    "plt.xlabel('название тарифа')\n",
    "plt.show()"
   ]
  },
  {
   "cell_type": "markdown",
   "metadata": {},
   "source": [
    "Видим следующее:\n",
    "- наибольшее кол-во пропущенных входящих звонков наблюдается у операторов на тарифе А, а наименьшее - на тарифе С;\n",
    "- как правило, количество пропущенных входящих звонков не превышает 8 штук (75% процентиль на ящике тарифа А);\n",
    "- *для дальнейшего анализа примем тот факт, что больше 8 пропущенных входящих звонков для оператора - это признак низкой эффективности работы.*"
   ]
  },
  {
   "cell_type": "markdown",
   "metadata": {},
   "source": [
    "**Выясним как распределено время ожидания ответа при входящих внешних вызовах**"
   ]
  },
  {
   "cell_type": "code",
   "execution_count": 18,
   "metadata": {
    "scrolled": false
   },
   "outputs": [
    {
     "data": {
      "image/png": "[encoded data removed]",
      "text/plain": [
       "<Figure size 1080x504 with 1 Axes>"
      ]
     },
     "metadata": {
      "needs_background": "light"
     },
     "output_type": "display_data"
    }
   ],
   "source": [
    "# задаём срез данных с входящими вызовами и вывовами которые не являются внутренними\n",
    "data.query('direction==\"in\" and internal==False ').boxplot(column='wait_time', by='tariff_plan',  figsize=(15,7))\n",
    "plt.ylim(-1, 100)\n",
    "plt.title('Время ожидания ответа при входящих внешних вызовах')\n",
    "plt.ylabel('минуты')\n",
    "plt.xlabel('название тарифа')\n",
    "plt.show()"
   ]
  },
  {
   "cell_type": "markdown",
   "metadata": {},
   "source": [
    "~~Удивило - но, судя по данным, ждать ответа оператора 2 часа - это норма.~~ "
   ]
  },
  {
   "cell_type": "markdown",
   "metadata": {},
   "source": [
    "27 минут - это нормальное время ожидания ответа оператора."
   ]
  },
  {
   "cell_type": "markdown",
   "metadata": {},
   "source": [
    "**Определим те колл-центры, которые специализируются только на исходящих звонках**"
   ]
  },
  {
   "cell_type": "code",
   "execution_count": 19,
   "metadata": {},
   "outputs": [
    {
     "data": {
      "text/html": [
       "<div>\n",
       "<style scoped>\n",
       "    .dataframe tbody tr th:only-of-type {\n",
       "        vertical-align: middle;\n",
       "    }\n",
       "\n",
       "    .dataframe tbody tr th {\n",
       "        vertical-align: top;\n",
       "    }\n",
       "\n",
       "    .dataframe thead th {\n",
       "        text-align: right;\n",
       "    }\n",
       "</style>\n",
       "<table border=\"1\" class=\"dataframe\">\n",
       "  <thead>\n",
       "    <tr style=\"text-align: right;\">\n",
       "      <th></th>\n",
       "      <th>user_id</th>\n",
       "    </tr>\n",
       "    <tr>\n",
       "      <th>direction</th>\n",
       "      <th></th>\n",
       "    </tr>\n",
       "  </thead>\n",
       "  <tbody>\n",
       "    <tr>\n",
       "      <th>in</th>\n",
       "      <td>307</td>\n",
       "    </tr>\n",
       "    <tr>\n",
       "      <th>out</th>\n",
       "      <td>222</td>\n",
       "    </tr>\n",
       "  </tbody>\n",
       "</table>\n",
       "</div>"
      ],
      "text/plain": [
       "           user_id\n",
       "direction         \n",
       "in             307\n",
       "out            222"
      ]
     },
     "metadata": {},
     "output_type": "display_data"
    },
    {
     "name": "stdout",
     "output_type": "stream",
     "text": [
      "Общее количество колл-центров: 307\n"
     ]
    }
   ],
   "source": [
    "display(data.groupby('direction').agg({'user_id':'nunique'}))\n",
    "print('Общее количество колл-центров:',data['user_id'].nunique())"
   ]
  },
  {
   "cell_type": "markdown",
   "metadata": {},
   "source": [
    "Получается, что все рассматриваемые клиенты работают с входящими звонками, а 222 из них работают и с входящими и с исходящими. В данных нет таких клиентов которые работают исключительно с исходящими звонками, поэтому будем рассматривать 50 колл-центров с наибольшим количеством исходящих звонков."
   ]
  },
  {
   "cell_type": "code",
   "execution_count": 20,
   "metadata": {},
   "outputs": [],
   "source": [
    "# так создаём список пользователей которые преимущественно специализируются на исходящих звонках\n",
    "out_users = (\n",
    "    data.pivot_table(index=['user_id', 'direction']\n",
    "                     , values='calls_count'\n",
    "                     , aggfunc='sum')\n",
    "                     .reset_index()\n",
    "                     .query('direction==\"out\"')\n",
    "                     .sort_values(by='calls_count', ascending=False)\n",
    "                     .head(50)\n",
    ")\n",
    "out_users = out_users['user_id'].tolist()"
   ]
  },
  {
   "cell_type": "markdown",
   "metadata": {},
   "source": [
    "В дальнейшем исследовании, для определения неэффективных операторов по одному из признаков, будем использовать срез данных в котором будут отображаться операторы тех колл-центров которые попали в список \"out_users\""
   ]
  },
  {
   "cell_type": "markdown",
   "metadata": {},
   "source": [
    "## Выявление неэффективных операторов\n",
    "**Признак 1: много пропущенных входящих вызовов**\n",
    "\n",
    "Ранее было определено, что больше 8 пропущенных вызовов у оператора - это много. Создадим список таких операторов."
   ]
  },
  {
   "cell_type": "code",
   "execution_count": 21,
   "metadata": {},
   "outputs": [
    {
     "data": {
      "text/plain": [
       "30"
      ]
     },
     "execution_count": 21,
     "metadata": {},
     "output_type": "execute_result"
    }
   ],
   "source": [
    "# список назовем bed_empl_1 (от англ. bad employee по первому признаку)\n",
    "bed_empl_1 = (\n",
    "    data.query('direction==\"in\" and is_missed_call==True')\n",
    "    .pivot_table(index='operator_id', values='calls_count', aggfunc='sum')\n",
    "    .reset_index()\n",
    ")\n",
    "\n",
    "#bed_empl_1\n",
    "bed_empl_1 = bed_empl_1.query('calls_count > 8')\n",
    "bed_empl_1 = bed_empl_1['operator_id']\n",
    "bed_empl_1.count()"
   ]
  },
  {
   "cell_type": "markdown",
   "metadata": {},
   "source": [
    "Теперь мы имеем список из 30 операторов (в т.ч. те, чьи имена имели отсутствующие значения) которые чаще 8 раз пропускали входящий вызов"
   ]
  },
  {
   "cell_type": "markdown",
   "metadata": {},
   "source": [
    "**Признак 2: долгое ожидания ответа при входящих внешних вызовах**\n",
    "\n",
    "Как мы помним из нашего EDA, которое мы провели ранее, нормальное время ожидания ответа оператора при внешних вызовах получилось - ~~120 минут~~. 27 минут\n",
    "\n",
    "Вновь составим список нерадивых операторов, но уже таких которые заставляют ждать ответа более ~~120 минут.~~ 27 минут"
   ]
  },
  {
   "cell_type": "code",
   "execution_count": 22,
   "metadata": {},
   "outputs": [
    {
     "data": {
      "text/plain": [
       "128"
      ]
     },
     "execution_count": 22,
     "metadata": {},
     "output_type": "execute_result"
    }
   ],
   "source": [
    "bed_empl_2 = (\n",
    "    data.query('direction==\"in\" and internal==False ')\n",
    "    .pivot_table(index='operator_id', values='wait_time')\n",
    "    .reset_index()\n",
    ")\n",
    "\n",
    "bed_empl_2 = bed_empl_2.query('wait_time > 27')\n",
    "bed_empl_2 = bed_empl_2['operator_id']\n",
    "bed_empl_2.count()"
   ]
  },
  {
   "cell_type": "markdown",
   "metadata": {},
   "source": [
    "Вторая партия неэффективных операторов готова. При входящих внешних вызовах, они заставляют ждать более 27 минут."
   ]
  },
  {
   "cell_type": "markdown",
   "metadata": {},
   "source": [
    "**Признак 3: мало исходящих вывозов — в случае тех колл-центров, что специализируются на обзвонах, а не обработке входящих звонков**\n",
    "\n",
    "Для решения этой задачи мы имеем список интересующих нас колл-центров: out_users \n",
    "\n",
    "Поработаем с данными которые относятся к клиентам из этого списка\n"
   ]
  },
  {
   "cell_type": "code",
   "execution_count": 23,
   "metadata": {},
   "outputs": [
    {
     "data": {
      "image/png": "[encoded data removed]",
      "text/plain": [
       "<Figure size 1080x504 with 1 Axes>"
      ]
     },
     "metadata": {
      "needs_background": "light"
     },
     "output_type": "display_data"
    }
   ],
   "source": [
    "df_for_out = data.query('user_id in @out_users')\n",
    "df_for_out.query('direction==\"out\"').boxplot(column='calls_count',  figsize=(15,7))\n",
    "plt.ylim(-1, 70)\n",
    "plt.title('Распределение исходящих вызовов')\n",
    "plt.ylabel('кол-во')\n",
    "plt.show()"
   ]
  },
  {
   "cell_type": "markdown",
   "metadata": {},
   "source": [
    "Исходя из диаграммы размаха можно заключить, что у рассматриваемых колл-центров, в основном, операторы совершают до 65 исходящих звонков.\n",
    "\n",
    "В дальнейшем будем принимать, что мало исходящих звонков для операторов из рассматриваемых колл-ценров - это меньше 10.\n",
    "\n",
    "Составим список из неэффективных операторов по третьему признаку"
   ]
  },
  {
   "cell_type": "code",
   "execution_count": 24,
   "metadata": {},
   "outputs": [
    {
     "data": {
      "text/plain": [
       "235"
      ]
     },
     "execution_count": 24,
     "metadata": {},
     "output_type": "execute_result"
    }
   ],
   "source": [
    "bed_empl_3 = (\n",
    "    df_for_out.query('direction==\"out\"')\n",
    "    .pivot_table(index='operator_id', values='calls_count')\n",
    "    .reset_index()\n",
    ")\n",
    "\n",
    "bed_empl_3 = bed_empl_3.query('calls_count < 10')\n",
    "bed_empl_3 = bed_empl_3['operator_id']\n",
    "bed_empl_3.count()"
   ]
  },
  {
   "cell_type": "markdown",
   "metadata": {},
   "source": [
    "Обнаружили 235 неэффективных операторов, которые совершают меньше 10 исходящих вызовов, работая при этом в колл-центре, который специализируется на обзвонах."
   ]
  },
  {
   "cell_type": "markdown",
   "metadata": {},
   "source": [
    "**Составим набор данных в котором отобразим только неэффективных операторов**"
   ]
  },
  {
   "cell_type": "code",
   "execution_count": 25,
   "metadata": {},
   "outputs": [
    {
     "name": "stdout",
     "output_type": "stream",
     "text": [
      "кол-во неэффективных операторов по всем трём признакам: 351\n"
     ]
    }
   ],
   "source": [
    "# получаем срез из нашего набора данных в который попадают только неэффективные операторы из составленных ранее списков\n",
    "bad_data = data.query('operator_id in @bed_empl_1 or operator_id in @bed_empl_2 or operator_id in @bed_empl_3')\n",
    "\n",
    "# посмотрим на общее количество неэффективных операторов\n",
    "print('кол-во неэффективных операторов по всем трём признакам:', bad_data['operator_id'].nunique())"
   ]
  },
  {
   "cell_type": "markdown",
   "metadata": {},
   "source": [
    "Таким образом, мы располагаем информацией о низкоэффективных операторах, с которой поработаем в следующем пункте"
   ]
  },
  {
   "cell_type": "markdown",
   "metadata": {},
   "source": [
    "- из полученного ранее набора данных с НЕО \"bad_data\", создадим таблицу с клиентами и количеством НЕО;\n",
    "- из исходного набора данных \"data\" получим таблицу с клиетами и количеством всех операторов;\n",
    "- соединим эти две таблицы по \"user_id\";\n",
    "- создадим дополнительное поле, в нём считаем какой процент от всех операторов у клиента является неэффективным;\n",
    "- сортируем таблицу по кол-ву операторов и проценту НЕО. Для того чтобы определить клиентов с наибольшим количеством операторов (думаю, что такие клиенты в приоритете), среди которых большой процент НЕО."
   ]
  },
  {
   "cell_type": "code",
   "execution_count": 26,
   "metadata": {},
   "outputs": [
    {
     "data": {
      "text/html": [
       "<div>\n",
       "<style scoped>\n",
       "    .dataframe tbody tr th:only-of-type {\n",
       "        vertical-align: middle;\n",
       "    }\n",
       "\n",
       "    .dataframe tbody tr th {\n",
       "        vertical-align: top;\n",
       "    }\n",
       "\n",
       "    .dataframe thead th {\n",
       "        text-align: right;\n",
       "    }\n",
       "</style>\n",
       "<table border=\"1\" class=\"dataframe\">\n",
       "  <thead>\n",
       "    <tr style=\"text-align: right;\">\n",
       "      <th></th>\n",
       "      <th>user_id</th>\n",
       "      <th>count_be</th>\n",
       "      <th>count_all_operators</th>\n",
       "      <th>bed_employee_per</th>\n",
       "    </tr>\n",
       "  </thead>\n",
       "  <tbody>\n",
       "    <tr>\n",
       "      <th>1</th>\n",
       "      <td>168187</td>\n",
       "      <td>1438</td>\n",
       "      <td>2580</td>\n",
       "      <td>55.736434</td>\n",
       "    </tr>\n",
       "    <tr>\n",
       "      <th>0</th>\n",
       "      <td>166658</td>\n",
       "      <td>2104</td>\n",
       "      <td>2105</td>\n",
       "      <td>99.952494</td>\n",
       "    </tr>\n",
       "    <tr>\n",
       "      <th>2</th>\n",
       "      <td>167497</td>\n",
       "      <td>1399</td>\n",
       "      <td>1405</td>\n",
       "      <td>99.572954</td>\n",
       "    </tr>\n",
       "    <tr>\n",
       "      <th>3</th>\n",
       "      <td>166916</td>\n",
       "      <td>1305</td>\n",
       "      <td>1305</td>\n",
       "      <td>100.000000</td>\n",
       "    </tr>\n",
       "    <tr>\n",
       "      <th>35</th>\n",
       "      <td>167626</td>\n",
       "      <td>129</td>\n",
       "      <td>1298</td>\n",
       "      <td>9.938367</td>\n",
       "    </tr>\n",
       "  </tbody>\n",
       "</table>\n",
       "</div>"
      ],
      "text/plain": [
       "    user_id  count_be  count_all_operators  bed_employee_per\n",
       "1    168187      1438                 2580         55.736434\n",
       "0    166658      2104                 2105         99.952494\n",
       "2    167497      1399                 1405         99.572954\n",
       "3    166916      1305                 1305        100.000000\n",
       "35   167626       129                 1298          9.938367"
      ]
     },
     "execution_count": 26,
     "metadata": {},
     "output_type": "execute_result"
    }
   ],
   "source": [
    "\n",
    "user_with_be = (bad_data.pivot_table(index='user_id', values=['operator_id'], aggfunc='count')\n",
    "                        .sort_values(by='operator_id', ascending=False)\n",
    "                        .reset_index()\n",
    "                        \n",
    "               )\n",
    "user_with_be.columns = ['user_id', 'count_be'] \n",
    "#display(user_with_be) # тут таблица с клиентами и количеством НЕО\n",
    "\n",
    "all_users = (data.pivot_table(index='user_id', values=['operator_id'], aggfunc='count')\n",
    "                        .sort_values(by='operator_id', ascending=False)\n",
    "                        .reset_index()\n",
    "            )\n",
    "all_users.columns = ['user_id', 'count_all_operators']\n",
    "#display(all_users) # тут таблица с клиетами и количеством всех операторов\n",
    "\n",
    "# Сброс ограничений на количество выводимых рядов\n",
    "pd.set_option('display.max_rows', None)\n",
    "\n",
    "user_with_be = user_with_be.merge(all_users, on = 'user_id')\n",
    "user_with_be['bed_employee_per'] = user_with_be['count_be'] / user_with_be['count_all_operators'] * 100\n",
    "user_with_be = user_with_be.sort_values(by=['count_all_operators','bed_employee_per' ], ascending = False)\n",
    "user_with_be.head()"
   ]
  },
  {
   "cell_type": "markdown",
   "metadata": {},
   "source": [
    "## Выявление особенностей операторов с низкой эффективностью\n",
    "**Посмотрим в каком соотношении они располагаются на тарифных планах**"
   ]
  },
  {
   "cell_type": "code",
   "execution_count": 27,
   "metadata": {},
   "outputs": [
    {
     "data": {
      "text/html": [
       "<div>\n",
       "<style scoped>\n",
       "    .dataframe tbody tr th:only-of-type {\n",
       "        vertical-align: middle;\n",
       "    }\n",
       "\n",
       "    .dataframe tbody tr th {\n",
       "        vertical-align: top;\n",
       "    }\n",
       "\n",
       "    .dataframe thead th {\n",
       "        text-align: right;\n",
       "    }\n",
       "</style>\n",
       "<table border=\"1\" class=\"dataframe\">\n",
       "  <thead>\n",
       "    <tr style=\"text-align: right;\">\n",
       "      <th></th>\n",
       "      <th>operator_id</th>\n",
       "    </tr>\n",
       "    <tr>\n",
       "      <th>tariff_plan</th>\n",
       "      <th></th>\n",
       "    </tr>\n",
       "  </thead>\n",
       "  <tbody>\n",
       "    <tr>\n",
       "      <th>A</th>\n",
       "      <td>133</td>\n",
       "    </tr>\n",
       "    <tr>\n",
       "      <th>B</th>\n",
       "      <td>125</td>\n",
       "    </tr>\n",
       "    <tr>\n",
       "      <th>C</th>\n",
       "      <td>95</td>\n",
       "    </tr>\n",
       "  </tbody>\n",
       "</table>\n",
       "</div>"
      ],
      "text/plain": [
       "             operator_id\n",
       "tariff_plan             \n",
       "A                    133\n",
       "B                    125\n",
       "C                     95"
      ]
     },
     "execution_count": 27,
     "metadata": {},
     "output_type": "execute_result"
    }
   ],
   "source": [
    "bad_data.groupby('tariff_plan').agg({'operator_id':'nunique'})"
   ]
  },
  {
   "cell_type": "markdown",
   "metadata": {},
   "source": [
    "Нельзя сказать, что они сильно неравномерно разбиты по тарифным планам."
   ]
  },
  {
   "cell_type": "markdown",
   "metadata": {},
   "source": [
    "**Изучим у каких пользователей наибольшее количество операторов с низкой эффективностью**"
   ]
  },
  {
   "cell_type": "markdown",
   "metadata": {},
   "source": [
    "Плсмотрим на общее распределение кол-ва операторов среди клиентов, чтобы определить таких, которые выделяются большим количеством операторов, но при этом большинство из операторов имеют низкую эффективность."
   ]
  },
  {
   "cell_type": "code",
   "execution_count": 28,
   "metadata": {},
   "outputs": [
    {
     "data": {
      "image/png": "[encoded data removed]",
      "text/plain": [
       "<Figure size 432x288 with 1 Axes>"
      ]
     },
     "metadata": {
      "needs_background": "light"
     },
     "output_type": "display_data"
    }
   ],
   "source": [
    "user_with_be.boxplot(column = 'count_all_operators')\n",
    "plt.ylim(-1, 1000)\n",
    "plt.title('Распределение количества операторов')\n",
    "plt.ylabel('кол-во')\n",
    "plt.show()"
   ]
  },
  {
   "cell_type": "markdown",
   "metadata": {},
   "source": [
    "Уделим особое внимание клиентам которые имеют 400 и больше операторов"
   ]
  },
  {
   "cell_type": "markdown",
   "metadata": {},
   "source": [
    "- Получим срез из таблицы \"user_with_be\" в котором отобразим тех клиентов, которым нужно уделить особое внимание: у них 400 и более операторов, больше половина из которых НЕО;\n",
    "- Создадим **список важных клиентов с большим количеством НЭО**"
   ]
  },
  {
   "cell_type": "code",
   "execution_count": 29,
   "metadata": {},
   "outputs": [
    {
     "name": "stdout",
     "output_type": "stream",
     "text": [
      "Кол-во крупных клиентов с максимальным процентом НЕО: 21\n",
      "\n",
      "ID этих клиентвов: [168187, 166658, 167497, 166916, 167150, 166405, 166983, 168252, 167109, 166782, 166582, 166485, 167359, 167650, 167977, 168091, 166407, 166997, 167521, 166541, 167888]\n"
     ]
    }
   ],
   "source": [
    "# список важных клиентов с большим количеством НЭО:\n",
    "top_user_with_be = user_with_be.query('count_all_operators >= 400 and bed_employee_per > 50')\n",
    "print('Кол-во крупных клиентов с максимальным процентом НЕО:',top_user_with_be['user_id'].count())\n",
    "top_user_with_be = top_user_with_be['user_id'].tolist()\n",
    "print()\n",
    "print('ID этих клиентвов:', top_user_with_be)"
   ]
  },
  {
   "cell_type": "markdown",
   "metadata": {},
   "source": [
    "**Посмотрим как менялась активность низкоэффективных операторов (НЭО) на разных тарифах во времени**"
   ]
  },
  {
   "cell_type": "code",
   "execution_count": 30,
   "metadata": {},
   "outputs": [
    {
     "data": {
      "text/plain": [
       "Text(0, 0.5, 'количество звонков')"
      ]
     },
     "execution_count": 30,
     "metadata": {},
     "output_type": "execute_result"
    },
    {
     "data": {
      "image/png": "[encoded data removed]",
      "text/plain": [
       "<Figure size 1440x360 with 1 Axes>"
      ]
     },
     "metadata": {
      "needs_background": "light"
     },
     "output_type": "display_data"
    }
   ],
   "source": [
    "(\n",
    "    bad_data.query('user_id in @top_user_with_be and tariff_plan==\"A\" ')\n",
    "    .pivot_table(index='day', values=['calls_count'], aggfunc='sum')\n",
    "    .sort_values(by='day')\n",
    "    .plot(kind='bar', linewidth=2, figsize=(20, 5))\n",
    ")\n",
    "plt.title('Кол-во звонков операторов с низкой эффективностью на тарифе А')\n",
    "plt.xlabel('Дни')\n",
    "plt.ylabel('количество звонков')"
   ]
  },
  {
   "cell_type": "markdown",
   "metadata": {},
   "source": [
    "Видим, что на тарифе А , активность НЭО с 30 октября снизилась практически втрое"
   ]
  },
  {
   "cell_type": "code",
   "execution_count": 31,
   "metadata": {},
   "outputs": [
    {
     "data": {
      "text/plain": [
       "Text(0, 0.5, 'количество звонков')"
      ]
     },
     "execution_count": 31,
     "metadata": {},
     "output_type": "execute_result"
    },
    {
     "data": {
      "image/png": "[encoded data removed]",
      "text/plain": [
       "<Figure size 1440x360 with 1 Axes>"
      ]
     },
     "metadata": {
      "needs_background": "light"
     },
     "output_type": "display_data"
    }
   ],
   "source": [
    "(\n",
    "    bad_data.query('user_id in @top_user_with_be and tariff_plan==\"B\" ')\n",
    "    .pivot_table(index='day', values=['calls_count'], aggfunc='sum')\n",
    "    .sort_values(by='day')\n",
    "    .plot(kind='bar', linewidth=2, figsize=(20, 5))\n",
    ")\n",
    "plt.title('Кол-во звонков операторов с низкой эффективностью на тарифе B')\n",
    "plt.xlabel('Дни')\n",
    "plt.ylabel('количество звонков')"
   ]
  },
  {
   "cell_type": "markdown",
   "metadata": {},
   "source": [
    "На тарифе В у НЭО никаких резких изменений активности во времени не наблюдается"
   ]
  },
  {
   "cell_type": "code",
   "execution_count": 32,
   "metadata": {},
   "outputs": [
    {
     "data": {
      "text/plain": [
       "Text(0, 0.5, 'количество звонков')"
      ]
     },
     "execution_count": 32,
     "metadata": {},
     "output_type": "execute_result"
    },
    {
     "data": {
      "image/png": "[encoded data removed]",
      "text/plain": [
       "<Figure size 1440x360 with 1 Axes>"
      ]
     },
     "metadata": {
      "needs_background": "light"
     },
     "output_type": "display_data"
    }
   ],
   "source": [
    "(\n",
    "    bad_data.query('user_id in @top_user_with_be and tariff_plan==\"C\" ')\n",
    "    .pivot_table(index='day', values=['calls_count'], aggfunc='sum')\n",
    "    .sort_values(by='day')\n",
    "    .plot(kind='bar', linewidth=2, figsize=(20, 5))\n",
    ")\n",
    "plt.title('Кол-во звонков операторов с низкой эффективностью на тарифе C')\n",
    "plt.xlabel('Дни')\n",
    "plt.ylabel('количество звонков')"
   ]
  },
  {
   "cell_type": "markdown",
   "metadata": {},
   "source": [
    "НЭО на тарифе С не снизили свою активность за рассматриваемые три месяца"
   ]
  },
  {
   "cell_type": "markdown",
   "metadata": {},
   "source": [
    "## Проверка статистических гипотез\n",
    "### Проверка 1\n",
    "\n",
    "**Нулевая гипотеза - Н0_1:** Среднее время ожидания для входящих звонков у операторов на тарифе A и В - равны.\n",
    "\n",
    "**Альтернативная гипотеза - Н1_1:** Среднее время ожидания для входящих звонков у операторов на тарифе A отличается от тарифа В"
   ]
  },
  {
   "cell_type": "code",
   "execution_count": 33,
   "metadata": {},
   "outputs": [
    {
     "name": "stdout",
     "output_type": "stream",
     "text": [
      "p-значение: 0.24065270285012014\n",
      "Не получилось отвергнуть нулевую гипотезу\n"
     ]
    }
   ],
   "source": [
    "from scipy import stats as st\n",
    "sample1 = data.loc[data['tariff_plan'] == 'A', 'wait_time']\n",
    "sample2 = data.loc[data['tariff_plan'] == 'B', 'wait_time']\n",
    "alpha = 0.05 # критический уровень статистической значимости\n",
    "\n",
    "results = st.ttest_ind(sample1, sample2, equal_var = False)\n",
    "\n",
    "print('p-значение:', results.pvalue)\n",
    "\n",
    "if results.pvalue > alpha:\n",
    "    print(\"Не получилось отвергнуть нулевую гипотезу\")\n",
    "else:\n",
    "    print(\"Отвергаем нулевую гипотезу\") "
   ]
  },
  {
   "cell_type": "markdown",
   "metadata": {},
   "source": [
    "**Принимаем гипотезу Н0_1:** Среднее время ожидания для входящих звонков у операторов на тарифе А **не отличется** от среднего времени ожидания для входящих звонков у операторов на тарифе В."
   ]
  },
  {
   "cell_type": "markdown",
   "metadata": {},
   "source": [
    "### Проверка 2"
   ]
  },
  {
   "cell_type": "markdown",
   "metadata": {},
   "source": [
    "**Нулевая гипотеза - Н0_2:** Среднее количество совершённых звонков у операторов на тарифе В и С - равны\n",
    "\n",
    "**Альтернативная гипотеза - Н1_2:** Среднее количество совершенных звонков у операторов на тарифе В отличается от тарифа С"
   ]
  },
  {
   "cell_type": "code",
   "execution_count": 34,
   "metadata": {},
   "outputs": [
    {
     "name": "stdout",
     "output_type": "stream",
     "text": [
      "p-значение: 1.805457427161211e-05\n",
      "Отвергаем нулевую гипотезу\n"
     ]
    }
   ],
   "source": [
    "sample1 = data.loc[data['tariff_plan'] == 'B', 'calls_count']\n",
    "sample2 = data.loc[data['tariff_plan'] == 'C', 'calls_count']\n",
    "alpha = 0.05 # критический уровень статистической значимости\n",
    "\n",
    "results = st.ttest_ind(sample1, sample2, equal_var = False)\n",
    "\n",
    "print('p-значение:', results.pvalue)\n",
    "\n",
    "if results.pvalue > alpha:\n",
    "    print(\"Не получилось отвергнуть нулевую гипотезу\")\n",
    "else:\n",
    "    print(\"Отвергаем нулевую гипотезу\") "
   ]
  },
  {
   "cell_type": "markdown",
   "metadata": {},
   "source": [
    "**Отвергаем нулевую гипотезу и принимаем альтернативную - Н1_2:** \n",
    "\n",
    "Среднее количество совершённых звонков у операторов на тарифе B отличется от среднего количества совершённых звонков у операторов на тарифе С."
   ]
  },
  {
   "cell_type": "markdown",
   "metadata": {},
   "source": [
    "## Общий вывод"
   ]
  },
  {
   "cell_type": "markdown",
   "metadata": {},
   "source": [
    "- В результате проведенного анализа, удалось составить три списка с ID низкоэффективных операторов:\n",
    "  - bed_empl_1 - 30 операторов из этого списка имеют большое количество пропущенных входящих вызовов;\n",
    "  - bed_empl_2 - для этих 128 операторов характерно долгое ожидания ответа при входящих внешних вызовах;\n",
    "  - bed_empl_3 - это те 235 операторов, которые преимущественно специализируются на обзвонах, однако, имеют довольно мало исходящих вызовов.\n",
    "\n",
    "- Составлен набор данных с названием \"bad_data\" в котором отображены все 351 неэффективных операторов с исходными параметрами.\n",
    "\n",
    "- Вероятно, на тарифе А , начиная с ноября 2019 года были внесены какие-либо существенные изменения, так как начиная с этого периода активность операторов на тарифе А сократилась втрое.\n",
    "\n",
    "\n",
    "\n"
   ]
  },
  {
   "cell_type": "code",
   "execution_count": null,
   "metadata": {},
   "outputs": [],
   "source": []
  }
 ],
 "metadata": {
  "ExecuteTimeLog": [
   {
    "duration": 1606,
    "start_time": "2022-05-20T08:38:34.096Z"
   },
   {
    "duration": 142,
    "start_time": "2022-05-20T08:43:32.543Z"
   },
   {
    "duration": 59,
    "start_time": "2022-05-20T08:44:22.782Z"
   },
   {
    "duration": 133,
    "start_time": "2022-05-20T08:46:07.799Z"
   },
   {
    "duration": 64,
    "start_time": "2022-05-20T08:46:53.721Z"
   },
   {
    "duration": 54,
    "start_time": "2022-05-20T08:47:41.936Z"
   },
   {
    "duration": 11,
    "start_time": "2022-05-20T09:08:59.244Z"
   },
   {
    "duration": 12,
    "start_time": "2022-05-20T09:09:07.770Z"
   },
   {
    "duration": 17,
    "start_time": "2022-05-20T09:09:55.672Z"
   },
   {
    "duration": 96,
    "start_time": "2022-05-20T09:10:14.803Z"
   },
   {
    "duration": 24,
    "start_time": "2022-05-20T09:11:13.795Z"
   },
   {
    "duration": 12,
    "start_time": "2022-05-20T09:11:20.317Z"
   },
   {
    "duration": 12,
    "start_time": "2022-05-20T09:50:49.396Z"
   },
   {
    "duration": 18,
    "start_time": "2022-05-20T09:59:51.914Z"
   },
   {
    "duration": 10,
    "start_time": "2022-05-20T10:00:24.813Z"
   },
   {
    "duration": 11,
    "start_time": "2022-05-20T10:01:05.453Z"
   },
   {
    "duration": 480,
    "start_time": "2022-05-20T10:02:27.101Z"
   },
   {
    "duration": 11,
    "start_time": "2022-05-20T10:07:38.191Z"
   },
   {
    "duration": 11,
    "start_time": "2022-05-20T10:07:51.325Z"
   },
   {
    "duration": 12,
    "start_time": "2022-05-20T10:08:00.584Z"
   },
   {
    "duration": 3,
    "start_time": "2022-05-20T10:08:06.468Z"
   },
   {
    "duration": 124,
    "start_time": "2022-05-20T10:08:06.477Z"
   },
   {
    "duration": 55,
    "start_time": "2022-05-20T10:08:06.603Z"
   },
   {
    "duration": 12,
    "start_time": "2022-05-20T10:08:06.660Z"
   },
   {
    "duration": 13,
    "start_time": "2022-05-20T10:08:06.674Z"
   },
   {
    "duration": 16,
    "start_time": "2022-05-20T10:08:47.807Z"
   },
   {
    "duration": 14,
    "start_time": "2022-05-20T10:09:55.199Z"
   },
   {
    "duration": 13,
    "start_time": "2022-05-20T10:10:12.119Z"
   },
   {
    "duration": 19,
    "start_time": "2022-05-20T10:14:37.228Z"
   },
   {
    "duration": 4,
    "start_time": "2022-05-20T10:16:00.425Z"
   },
   {
    "duration": 101,
    "start_time": "2022-05-20T10:16:00.430Z"
   },
   {
    "duration": 53,
    "start_time": "2022-05-20T10:16:00.533Z"
   },
   {
    "duration": 12,
    "start_time": "2022-05-20T10:16:00.588Z"
   },
   {
    "duration": 48,
    "start_time": "2022-05-20T10:16:00.602Z"
   },
   {
    "duration": 14,
    "start_time": "2022-05-20T10:16:16.613Z"
   },
   {
    "duration": 3,
    "start_time": "2022-05-20T10:18:53.601Z"
   },
   {
    "duration": 87,
    "start_time": "2022-05-20T10:18:53.606Z"
   },
   {
    "duration": 53,
    "start_time": "2022-05-20T10:18:53.695Z"
   },
   {
    "duration": 12,
    "start_time": "2022-05-20T10:18:53.750Z"
   },
   {
    "duration": 21,
    "start_time": "2022-05-20T10:18:53.763Z"
   },
   {
    "duration": 23,
    "start_time": "2022-05-20T10:19:18.260Z"
   },
   {
    "duration": 684,
    "start_time": "2022-05-20T10:23:17.368Z"
   },
   {
    "duration": 36,
    "start_time": "2022-05-20T10:23:27.869Z"
   },
   {
    "duration": 29,
    "start_time": "2022-05-20T10:23:38.998Z"
   },
   {
    "duration": 34,
    "start_time": "2022-05-20T10:23:44.812Z"
   },
   {
    "duration": 24,
    "start_time": "2022-05-20T10:25:25.626Z"
   },
   {
    "duration": 27,
    "start_time": "2022-05-20T10:26:04.196Z"
   },
   {
    "duration": 26,
    "start_time": "2022-05-20T10:28:10.364Z"
   },
   {
    "duration": 27,
    "start_time": "2022-05-20T10:28:42.775Z"
   },
   {
    "duration": 28,
    "start_time": "2022-05-20T10:29:44.609Z"
   },
   {
    "duration": 29,
    "start_time": "2022-05-20T10:30:01.671Z"
   },
   {
    "duration": 1325,
    "start_time": "2022-05-20T10:31:31.568Z"
   },
   {
    "duration": 1297,
    "start_time": "2022-05-20T10:31:42.058Z"
   },
   {
    "duration": 3,
    "start_time": "2022-05-20T10:32:27.782Z"
   },
   {
    "duration": 83,
    "start_time": "2022-05-20T10:32:27.787Z"
   },
   {
    "duration": 56,
    "start_time": "2022-05-20T10:32:27.871Z"
   },
   {
    "duration": 13,
    "start_time": "2022-05-20T10:32:27.929Z"
   },
   {
    "duration": 19,
    "start_time": "2022-05-20T10:32:27.944Z"
   },
   {
    "duration": 27,
    "start_time": "2022-05-20T10:32:27.965Z"
   },
   {
    "duration": 1187,
    "start_time": "2022-05-20T10:32:27.993Z"
   },
   {
    "duration": 1304,
    "start_time": "2022-05-20T10:33:07.210Z"
   },
   {
    "duration": 1220,
    "start_time": "2022-05-20T10:34:14.924Z"
   },
   {
    "duration": 10,
    "start_time": "2022-05-20T10:34:59.398Z"
   },
   {
    "duration": 1287,
    "start_time": "2022-05-20T10:35:08.407Z"
   },
   {
    "duration": 12,
    "start_time": "2022-05-20T13:25:51.884Z"
   },
   {
    "duration": 47,
    "start_time": "2022-05-20T13:35:42.832Z"
   },
   {
    "duration": 24,
    "start_time": "2022-05-20T13:58:05.133Z"
   },
   {
    "duration": 16,
    "start_time": "2022-05-20T14:07:04.011Z"
   },
   {
    "duration": 588,
    "start_time": "2022-05-20T14:16:24.665Z"
   },
   {
    "duration": 4,
    "start_time": "2022-05-20T14:16:59.719Z"
   },
   {
    "duration": 124,
    "start_time": "2022-05-20T14:16:59.725Z"
   },
   {
    "duration": 86,
    "start_time": "2022-05-20T14:16:59.851Z"
   },
   {
    "duration": 19,
    "start_time": "2022-05-20T14:16:59.939Z"
   },
   {
    "duration": 40,
    "start_time": "2022-05-20T14:16:59.960Z"
   },
   {
    "duration": 34,
    "start_time": "2022-05-20T14:17:00.001Z"
   },
   {
    "duration": 60,
    "start_time": "2022-05-20T14:17:00.037Z"
   },
   {
    "duration": 29,
    "start_time": "2022-05-20T14:17:00.099Z"
   },
   {
    "duration": 47,
    "start_time": "2022-05-20T14:17:00.133Z"
   },
   {
    "duration": 36,
    "start_time": "2022-05-20T14:17:45.691Z"
   },
   {
    "duration": 24,
    "start_time": "2022-05-20T14:19:15.733Z"
   },
   {
    "duration": 31,
    "start_time": "2022-05-20T14:39:26.493Z"
   },
   {
    "duration": 4,
    "start_time": "2022-05-20T14:40:59.662Z"
   },
   {
    "duration": 7,
    "start_time": "2022-05-20T14:41:12.807Z"
   },
   {
    "duration": 2,
    "start_time": "2022-05-20T14:59:29.271Z"
   },
   {
    "duration": 93,
    "start_time": "2022-05-20T14:59:29.278Z"
   },
   {
    "duration": 56,
    "start_time": "2022-05-20T14:59:29.372Z"
   },
   {
    "duration": 12,
    "start_time": "2022-05-20T14:59:29.430Z"
   },
   {
    "duration": 38,
    "start_time": "2022-05-20T14:59:29.444Z"
   },
   {
    "duration": 10,
    "start_time": "2022-05-20T14:59:29.484Z"
   },
   {
    "duration": 33,
    "start_time": "2022-05-20T14:59:29.495Z"
   },
   {
    "duration": 13,
    "start_time": "2022-05-20T14:59:29.529Z"
   },
   {
    "duration": 35,
    "start_time": "2022-05-20T14:59:29.543Z"
   },
   {
    "duration": 4,
    "start_time": "2022-05-20T14:59:29.580Z"
   },
   {
    "duration": 720,
    "start_time": "2022-05-20T14:59:29.586Z"
   },
   {
    "duration": 41,
    "start_time": "2022-05-20T15:00:40.129Z"
   },
   {
    "duration": 5,
    "start_time": "2022-05-20T15:00:53.542Z"
   },
   {
    "duration": 5,
    "start_time": "2022-05-20T15:02:59.082Z"
   },
   {
    "duration": 240,
    "start_time": "2022-05-20T15:03:00.451Z"
   },
   {
    "duration": 4,
    "start_time": "2022-05-20T15:03:11.638Z"
   },
   {
    "duration": 1709,
    "start_time": "2022-05-20T15:03:12.382Z"
   },
   {
    "duration": 5,
    "start_time": "2022-05-20T15:03:41.946Z"
   },
   {
    "duration": 4030,
    "start_time": "2022-05-20T15:03:42.797Z"
   },
   {
    "duration": 6,
    "start_time": "2022-05-20T15:05:27.585Z"
   },
   {
    "duration": 2895,
    "start_time": "2022-05-20T15:05:28.201Z"
   },
   {
    "duration": 5,
    "start_time": "2022-05-20T15:06:16.855Z"
   },
   {
    "duration": 452,
    "start_time": "2022-05-20T15:06:17.231Z"
   },
   {
    "duration": 527,
    "start_time": "2022-05-20T15:10:33.594Z"
   },
   {
    "duration": 820,
    "start_time": "2022-05-20T15:11:43.670Z"
   },
   {
    "duration": 5,
    "start_time": "2022-05-20T15:12:20.114Z"
   },
   {
    "duration": 362,
    "start_time": "2022-05-20T15:12:20.834Z"
   },
   {
    "duration": 335,
    "start_time": "2022-05-20T15:12:22.287Z"
   },
   {
    "duration": 342,
    "start_time": "2022-05-20T15:12:23.651Z"
   },
   {
    "duration": 5,
    "start_time": "2022-05-20T15:12:43.312Z"
   },
   {
    "duration": 421,
    "start_time": "2022-05-20T15:12:54.367Z"
   },
   {
    "duration": 556,
    "start_time": "2022-05-20T15:13:40.656Z"
   },
   {
    "duration": 5,
    "start_time": "2022-05-20T15:14:07.798Z"
   },
   {
    "duration": 638,
    "start_time": "2022-05-20T15:14:08.715Z"
   },
   {
    "duration": 749,
    "start_time": "2022-05-20T15:14:11.219Z"
   },
   {
    "duration": 619,
    "start_time": "2022-05-20T15:14:17.075Z"
   },
   {
    "duration": 620,
    "start_time": "2022-05-20T15:15:26.739Z"
   },
   {
    "duration": 6,
    "start_time": "2022-05-20T15:17:12.492Z"
   },
   {
    "duration": 803,
    "start_time": "2022-05-20T15:17:15.966Z"
   },
   {
    "duration": 613,
    "start_time": "2022-05-20T15:17:26.946Z"
   },
   {
    "duration": 723,
    "start_time": "2022-05-20T15:17:28.922Z"
   },
   {
    "duration": 595,
    "start_time": "2022-05-20T15:18:36.724Z"
   },
   {
    "duration": 724,
    "start_time": "2022-05-20T15:19:14.161Z"
   },
   {
    "duration": 5,
    "start_time": "2022-05-20T15:19:35.819Z"
   },
   {
    "duration": 503,
    "start_time": "2022-05-20T15:19:37.781Z"
   },
   {
    "duration": 534,
    "start_time": "2022-05-20T15:19:43.544Z"
   },
   {
    "duration": 619,
    "start_time": "2022-05-20T15:19:47.089Z"
   },
   {
    "duration": 5,
    "start_time": "2022-05-20T15:20:17.944Z"
   },
   {
    "duration": 397,
    "start_time": "2022-05-20T15:20:18.571Z"
   },
   {
    "duration": 396,
    "start_time": "2022-05-20T15:20:20.183Z"
   },
   {
    "duration": 507,
    "start_time": "2022-05-20T15:20:21.956Z"
   },
   {
    "duration": 5,
    "start_time": "2022-05-20T15:20:40.210Z"
   },
   {
    "duration": 595,
    "start_time": "2022-05-20T15:20:41.540Z"
   },
   {
    "duration": 721,
    "start_time": "2022-05-20T15:20:43.062Z"
   },
   {
    "duration": 606,
    "start_time": "2022-05-20T15:20:44.829Z"
   },
   {
    "duration": 628,
    "start_time": "2022-05-20T15:20:53.656Z"
   },
   {
    "duration": 20,
    "start_time": "2022-05-20T15:37:27.696Z"
   },
   {
    "duration": 24,
    "start_time": "2022-05-20T15:37:54.087Z"
   },
   {
    "duration": 25,
    "start_time": "2022-05-20T15:39:10.254Z"
   },
   {
    "duration": 23,
    "start_time": "2022-05-20T15:44:16.720Z"
   },
   {
    "duration": 57,
    "start_time": "2022-05-21T08:32:40.271Z"
   },
   {
    "duration": 1553,
    "start_time": "2022-05-21T08:32:44.982Z"
   },
   {
    "duration": 427,
    "start_time": "2022-05-21T08:32:46.537Z"
   },
   {
    "duration": 57,
    "start_time": "2022-05-21T08:32:46.966Z"
   },
   {
    "duration": 12,
    "start_time": "2022-05-21T08:32:47.024Z"
   },
   {
    "duration": 24,
    "start_time": "2022-05-21T08:32:47.038Z"
   },
   {
    "duration": 31,
    "start_time": "2022-05-21T08:32:47.064Z"
   },
   {
    "duration": 24,
    "start_time": "2022-05-21T08:32:47.096Z"
   },
   {
    "duration": 11,
    "start_time": "2022-05-21T08:32:47.122Z"
   },
   {
    "duration": 31,
    "start_time": "2022-05-21T08:32:47.134Z"
   },
   {
    "duration": 5,
    "start_time": "2022-05-21T08:32:47.166Z"
   },
   {
    "duration": 787,
    "start_time": "2022-05-21T08:32:47.204Z"
   },
   {
    "duration": 661,
    "start_time": "2022-05-21T08:32:47.994Z"
   },
   {
    "duration": 787,
    "start_time": "2022-05-21T08:32:48.656Z"
   },
   {
    "duration": 25,
    "start_time": "2022-05-21T08:32:49.446Z"
   },
   {
    "duration": 80,
    "start_time": "2022-05-21T08:32:49.473Z"
   },
   {
    "duration": 12,
    "start_time": "2022-05-21T08:32:59.297Z"
   },
   {
    "duration": 22,
    "start_time": "2022-05-21T08:34:38.986Z"
   },
   {
    "duration": 172,
    "start_time": "2022-05-21T08:35:46.774Z"
   },
   {
    "duration": 35,
    "start_time": "2022-05-21T08:35:59.286Z"
   },
   {
    "duration": 14,
    "start_time": "2022-05-21T08:43:58.963Z"
   },
   {
    "duration": 4299,
    "start_time": "2022-05-21T08:45:07.570Z"
   },
   {
    "duration": 4178,
    "start_time": "2022-05-21T08:45:48.005Z"
   },
   {
    "duration": 331,
    "start_time": "2022-05-21T08:46:32.226Z"
   },
   {
    "duration": 33,
    "start_time": "2022-05-21T08:48:28.685Z"
   },
   {
    "duration": 29,
    "start_time": "2022-05-21T08:48:57.734Z"
   },
   {
    "duration": 25,
    "start_time": "2022-05-21T08:50:18.982Z"
   },
   {
    "duration": 41,
    "start_time": "2022-05-21T08:50:31.963Z"
   },
   {
    "duration": 24,
    "start_time": "2022-05-21T08:51:14.273Z"
   },
   {
    "duration": 22,
    "start_time": "2022-05-21T08:52:32.588Z"
   },
   {
    "duration": 321,
    "start_time": "2022-05-21T08:53:52.693Z"
   },
   {
    "duration": 336,
    "start_time": "2022-05-21T08:54:41.613Z"
   },
   {
    "duration": 18,
    "start_time": "2022-05-21T08:55:42.698Z"
   },
   {
    "duration": 129,
    "start_time": "2022-05-21T09:00:08.937Z"
   },
   {
    "duration": 192,
    "start_time": "2022-05-21T09:01:12.785Z"
   },
   {
    "duration": 206,
    "start_time": "2022-05-21T09:02:18.481Z"
   },
   {
    "duration": 213,
    "start_time": "2022-05-21T09:02:29.975Z"
   },
   {
    "duration": 213,
    "start_time": "2022-05-21T09:02:41.017Z"
   },
   {
    "duration": 224,
    "start_time": "2022-05-21T09:03:27.490Z"
   },
   {
    "duration": 192,
    "start_time": "2022-05-21T09:04:49.113Z"
   },
   {
    "duration": 199,
    "start_time": "2022-05-21T09:09:06.030Z"
   },
   {
    "duration": 212,
    "start_time": "2022-05-21T09:09:32.291Z"
   },
   {
    "duration": 482,
    "start_time": "2022-05-21T09:09:39.488Z"
   },
   {
    "duration": 285,
    "start_time": "2022-05-21T09:12:27.282Z"
   },
   {
    "duration": 28,
    "start_time": "2022-05-21T09:47:48.982Z"
   },
   {
    "duration": 31,
    "start_time": "2022-05-21T09:49:17.424Z"
   },
   {
    "duration": 32,
    "start_time": "2022-05-21T09:50:39.214Z"
   },
   {
    "duration": 31,
    "start_time": "2022-05-21T09:52:31.035Z"
   },
   {
    "duration": 40,
    "start_time": "2022-05-21T09:53:05.884Z"
   },
   {
    "duration": 168,
    "start_time": "2022-05-21T09:55:08.783Z"
   },
   {
    "duration": 210,
    "start_time": "2022-05-21T09:55:16.230Z"
   },
   {
    "duration": 374,
    "start_time": "2022-05-21T09:56:35.776Z"
   },
   {
    "duration": 401,
    "start_time": "2022-05-21T09:58:10.574Z"
   },
   {
    "duration": 47,
    "start_time": "2022-05-21T09:59:47.024Z"
   },
   {
    "duration": 43,
    "start_time": "2022-05-21T09:59:53.837Z"
   },
   {
    "duration": 58,
    "start_time": "2022-05-21T10:04:41.191Z"
   },
   {
    "duration": 226,
    "start_time": "2022-05-21T10:05:17.679Z"
   },
   {
    "duration": 54,
    "start_time": "2022-05-21T10:05:46.672Z"
   },
   {
    "duration": 38,
    "start_time": "2022-05-21T10:06:37.073Z"
   },
   {
    "duration": 225,
    "start_time": "2022-05-21T10:10:42.725Z"
   },
   {
    "duration": 208,
    "start_time": "2022-05-21T10:15:08.970Z"
   },
   {
    "duration": 184,
    "start_time": "2022-05-21T10:20:50.689Z"
   },
   {
    "duration": 261,
    "start_time": "2022-05-21T10:21:59.769Z"
   },
   {
    "duration": 174,
    "start_time": "2022-05-21T10:23:20.867Z"
   },
   {
    "duration": 203,
    "start_time": "2022-05-21T10:23:29.111Z"
   },
   {
    "duration": 189,
    "start_time": "2022-05-21T10:26:21.391Z"
   },
   {
    "duration": 251,
    "start_time": "2022-05-21T10:26:41.193Z"
   },
   {
    "duration": 242,
    "start_time": "2022-05-21T10:37:26.036Z"
   },
   {
    "duration": 3,
    "start_time": "2022-05-21T10:37:38.872Z"
   },
   {
    "duration": 149,
    "start_time": "2022-05-21T10:37:38.877Z"
   },
   {
    "duration": 59,
    "start_time": "2022-05-21T10:37:39.027Z"
   },
   {
    "duration": 27,
    "start_time": "2022-05-21T10:37:39.087Z"
   },
   {
    "duration": 37,
    "start_time": "2022-05-21T10:37:39.117Z"
   },
   {
    "duration": 19,
    "start_time": "2022-05-21T10:37:39.157Z"
   },
   {
    "duration": 36,
    "start_time": "2022-05-21T10:37:39.178Z"
   },
   {
    "duration": 14,
    "start_time": "2022-05-21T10:37:39.215Z"
   },
   {
    "duration": 33,
    "start_time": "2022-05-21T10:37:39.231Z"
   },
   {
    "duration": 5,
    "start_time": "2022-05-21T10:37:39.266Z"
   },
   {
    "duration": 709,
    "start_time": "2022-05-21T10:37:39.272Z"
   },
   {
    "duration": 943,
    "start_time": "2022-05-21T10:37:39.983Z"
   },
   {
    "duration": 713,
    "start_time": "2022-05-21T10:37:40.931Z"
   },
   {
    "duration": 24,
    "start_time": "2022-05-21T10:37:41.647Z"
   },
   {
    "duration": 52,
    "start_time": "2022-05-21T10:37:41.673Z"
   },
   {
    "duration": 212,
    "start_time": "2022-05-21T10:37:41.727Z"
   },
   {
    "duration": 271,
    "start_time": "2022-05-21T10:37:41.941Z"
   },
   {
    "duration": 203,
    "start_time": "2022-05-21T10:39:14.530Z"
   },
   {
    "duration": 220,
    "start_time": "2022-05-21T10:39:46.662Z"
   },
   {
    "duration": 191,
    "start_time": "2022-05-21T10:39:55.982Z"
   },
   {
    "duration": 205,
    "start_time": "2022-05-21T10:40:02.962Z"
   },
   {
    "duration": 210,
    "start_time": "2022-05-21T10:40:11.430Z"
   },
   {
    "duration": 499,
    "start_time": "2022-05-21T10:41:13.786Z"
   },
   {
    "duration": 227,
    "start_time": "2022-05-21T10:42:16.191Z"
   },
   {
    "duration": 41,
    "start_time": "2022-05-21T10:43:32.210Z"
   },
   {
    "duration": 21,
    "start_time": "2022-05-21T12:27:37.139Z"
   },
   {
    "duration": 42,
    "start_time": "2022-05-21T12:32:01.552Z"
   },
   {
    "duration": 32,
    "start_time": "2022-05-21T12:32:40.793Z"
   },
   {
    "duration": 28,
    "start_time": "2022-05-21T12:33:37.032Z"
   },
   {
    "duration": 29,
    "start_time": "2022-05-21T12:33:53.729Z"
   },
   {
    "duration": 3,
    "start_time": "2022-05-21T12:34:11.036Z"
   },
   {
    "duration": 131,
    "start_time": "2022-05-21T12:34:11.042Z"
   },
   {
    "duration": 82,
    "start_time": "2022-05-21T12:34:11.175Z"
   },
   {
    "duration": 17,
    "start_time": "2022-05-21T12:34:11.259Z"
   },
   {
    "duration": 44,
    "start_time": "2022-05-21T12:34:11.279Z"
   },
   {
    "duration": 33,
    "start_time": "2022-05-21T12:34:11.325Z"
   },
   {
    "duration": 69,
    "start_time": "2022-05-21T12:34:11.360Z"
   },
   {
    "duration": 24,
    "start_time": "2022-05-21T12:34:11.433Z"
   },
   {
    "duration": 32,
    "start_time": "2022-05-21T12:34:11.459Z"
   },
   {
    "duration": 7,
    "start_time": "2022-05-21T12:34:11.493Z"
   },
   {
    "duration": 911,
    "start_time": "2022-05-21T12:34:11.511Z"
   },
   {
    "duration": 844,
    "start_time": "2022-05-21T12:34:12.432Z"
   },
   {
    "duration": 1095,
    "start_time": "2022-05-21T12:34:13.278Z"
   },
   {
    "duration": 38,
    "start_time": "2022-05-21T12:34:14.375Z"
   },
   {
    "duration": 36,
    "start_time": "2022-05-21T12:34:14.415Z"
   },
   {
    "duration": 256,
    "start_time": "2022-05-21T12:34:14.453Z"
   },
   {
    "duration": 259,
    "start_time": "2022-05-21T12:34:14.711Z"
   },
   {
    "duration": 41,
    "start_time": "2022-05-21T12:34:14.972Z"
   },
   {
    "duration": 28,
    "start_time": "2022-05-21T12:34:15.022Z"
   },
   {
    "duration": 25,
    "start_time": "2022-05-21T12:34:15.052Z"
   },
   {
    "duration": 25,
    "start_time": "2022-05-21T12:38:09.736Z"
   },
   {
    "duration": 15,
    "start_time": "2022-05-21T12:38:40.731Z"
   },
   {
    "duration": 6,
    "start_time": "2022-05-21T12:38:51.539Z"
   },
   {
    "duration": 17,
    "start_time": "2022-05-21T12:38:58.026Z"
   },
   {
    "duration": 9,
    "start_time": "2022-05-21T12:39:16.280Z"
   },
   {
    "duration": 7,
    "start_time": "2022-05-21T12:39:23.321Z"
   },
   {
    "duration": 29,
    "start_time": "2022-05-21T12:41:31.815Z"
   },
   {
    "duration": 19,
    "start_time": "2022-05-21T12:42:21.047Z"
   },
   {
    "duration": 48,
    "start_time": "2022-05-21T12:52:26.397Z"
   },
   {
    "duration": 30,
    "start_time": "2022-05-21T12:54:21.119Z"
   },
   {
    "duration": 21,
    "start_time": "2022-05-21T12:55:02.957Z"
   },
   {
    "duration": 25,
    "start_time": "2022-05-21T12:56:50.929Z"
   },
   {
    "duration": 56,
    "start_time": "2022-05-21T12:58:11.815Z"
   },
   {
    "duration": 26,
    "start_time": "2022-05-21T12:58:27.319Z"
   },
   {
    "duration": 26,
    "start_time": "2022-05-21T12:59:26.853Z"
   },
   {
    "duration": 184,
    "start_time": "2022-05-21T12:59:38.253Z"
   },
   {
    "duration": 137,
    "start_time": "2022-05-21T13:01:40.309Z"
   },
   {
    "duration": 235,
    "start_time": "2022-05-21T13:03:53.931Z"
   },
   {
    "duration": 273,
    "start_time": "2022-05-21T13:04:05.293Z"
   },
   {
    "duration": 225,
    "start_time": "2022-05-21T13:04:13.641Z"
   },
   {
    "duration": 255,
    "start_time": "2022-05-21T13:05:48.415Z"
   },
   {
    "duration": 56,
    "start_time": "2022-05-21T13:10:36.084Z"
   },
   {
    "duration": 39,
    "start_time": "2022-05-21T13:12:55.970Z"
   },
   {
    "duration": 17,
    "start_time": "2022-05-21T13:14:07.970Z"
   },
   {
    "duration": 26,
    "start_time": "2022-05-21T13:14:34.205Z"
   },
   {
    "duration": 18,
    "start_time": "2022-05-21T13:15:10.871Z"
   },
   {
    "duration": 66,
    "start_time": "2022-05-21T13:15:18.177Z"
   },
   {
    "duration": 27,
    "start_time": "2022-05-21T13:16:01.029Z"
   },
   {
    "duration": 45,
    "start_time": "2022-05-21T13:17:02.427Z"
   },
   {
    "duration": 35,
    "start_time": "2022-05-21T13:17:30.310Z"
   },
   {
    "duration": 33,
    "start_time": "2022-05-21T13:19:03.315Z"
   },
   {
    "duration": 26,
    "start_time": "2022-05-21T13:21:11.938Z"
   },
   {
    "duration": 42,
    "start_time": "2022-05-21T13:21:49.692Z"
   },
   {
    "duration": 33,
    "start_time": "2022-05-21T13:22:11.433Z"
   },
   {
    "duration": 32,
    "start_time": "2022-05-21T13:22:58.838Z"
   },
   {
    "duration": 78,
    "start_time": "2022-05-21T13:23:40.667Z"
   },
   {
    "duration": 20,
    "start_time": "2022-05-21T13:23:48.837Z"
   },
   {
    "duration": 29,
    "start_time": "2022-05-21T13:24:22.576Z"
   },
   {
    "duration": 44,
    "start_time": "2022-05-21T13:26:31.692Z"
   },
   {
    "duration": 28,
    "start_time": "2022-05-21T13:26:41.389Z"
   },
   {
    "duration": 24,
    "start_time": "2022-05-21T14:07:13.569Z"
   },
   {
    "duration": 201,
    "start_time": "2022-05-21T14:16:59.477Z"
   },
   {
    "duration": 202,
    "start_time": "2022-05-21T14:17:06.253Z"
   },
   {
    "duration": 21,
    "start_time": "2022-05-21T14:17:42.622Z"
   },
   {
    "duration": 21,
    "start_time": "2022-05-21T14:18:21.061Z"
   },
   {
    "duration": 25,
    "start_time": "2022-05-21T14:19:00.249Z"
   },
   {
    "duration": 22,
    "start_time": "2022-05-21T14:19:38.048Z"
   },
   {
    "duration": 27,
    "start_time": "2022-05-21T14:19:54.080Z"
   },
   {
    "duration": 23,
    "start_time": "2022-05-21T14:24:20.606Z"
   },
   {
    "duration": 18,
    "start_time": "2022-05-21T14:26:29.967Z"
   },
   {
    "duration": 25,
    "start_time": "2022-05-21T14:37:51.104Z"
   },
   {
    "duration": 21,
    "start_time": "2022-05-21T14:38:12.397Z"
   },
   {
    "duration": 27,
    "start_time": "2022-05-21T14:38:45.117Z"
   },
   {
    "duration": 25,
    "start_time": "2022-05-21T14:39:08.203Z"
   },
   {
    "duration": 22,
    "start_time": "2022-05-21T14:39:18.320Z"
   },
   {
    "duration": 22,
    "start_time": "2022-05-21T14:42:43.363Z"
   },
   {
    "duration": 25,
    "start_time": "2022-05-21T14:49:26.095Z"
   },
   {
    "duration": 33,
    "start_time": "2022-05-21T14:50:13.930Z"
   },
   {
    "duration": 20,
    "start_time": "2022-05-21T14:50:39.792Z"
   },
   {
    "duration": 201,
    "start_time": "2022-05-21T14:53:38.385Z"
   },
   {
    "duration": 389,
    "start_time": "2022-05-21T14:53:49.772Z"
   },
   {
    "duration": 195,
    "start_time": "2022-05-21T14:54:39.296Z"
   },
   {
    "duration": 204,
    "start_time": "2022-05-21T14:54:48.772Z"
   },
   {
    "duration": 184,
    "start_time": "2022-05-21T14:55:14.209Z"
   },
   {
    "duration": 155,
    "start_time": "2022-05-21T14:55:30.670Z"
   },
   {
    "duration": 163,
    "start_time": "2022-05-21T14:55:38.882Z"
   },
   {
    "duration": 233,
    "start_time": "2022-05-21T16:09:55.430Z"
   },
   {
    "duration": 156,
    "start_time": "2022-05-21T16:10:27.510Z"
   },
   {
    "duration": 140,
    "start_time": "2022-05-21T16:10:34.477Z"
   },
   {
    "duration": 156,
    "start_time": "2022-05-21T16:10:42.054Z"
   },
   {
    "duration": 45,
    "start_time": "2022-05-21T16:17:58.654Z"
   },
   {
    "duration": 398,
    "start_time": "2022-05-21T16:18:21.434Z"
   },
   {
    "duration": 21,
    "start_time": "2022-05-21T16:18:45.780Z"
   },
   {
    "duration": 40,
    "start_time": "2022-05-21T16:29:23.920Z"
   },
   {
    "duration": 35,
    "start_time": "2022-05-21T16:29:51.080Z"
   },
   {
    "duration": 13,
    "start_time": "2022-05-21T16:30:13.857Z"
   },
   {
    "duration": 29,
    "start_time": "2022-05-21T16:30:28.302Z"
   },
   {
    "duration": 24,
    "start_time": "2022-05-21T16:31:58.030Z"
   },
   {
    "duration": 29,
    "start_time": "2022-05-21T16:32:15.025Z"
   },
   {
    "duration": 39,
    "start_time": "2022-05-21T16:32:21.892Z"
   },
   {
    "duration": 47,
    "start_time": "2022-05-21T16:34:01.961Z"
   },
   {
    "duration": 28,
    "start_time": "2022-05-21T16:36:40.320Z"
   },
   {
    "duration": 27,
    "start_time": "2022-05-21T16:37:29.065Z"
   },
   {
    "duration": 216,
    "start_time": "2022-05-21T16:40:11.143Z"
   },
   {
    "duration": 27,
    "start_time": "2022-05-21T16:40:18.277Z"
   },
   {
    "duration": 27,
    "start_time": "2022-05-21T16:40:25.276Z"
   },
   {
    "duration": 26,
    "start_time": "2022-05-21T16:41:16.576Z"
   },
   {
    "duration": 23,
    "start_time": "2022-05-21T16:41:24.328Z"
   },
   {
    "duration": 28,
    "start_time": "2022-05-21T16:41:34.206Z"
   },
   {
    "duration": 36,
    "start_time": "2022-05-21T16:43:10.326Z"
   },
   {
    "duration": 14,
    "start_time": "2022-05-21T16:43:15.977Z"
   },
   {
    "duration": 15,
    "start_time": "2022-05-21T16:45:16.117Z"
   },
   {
    "duration": 11,
    "start_time": "2022-05-21T16:45:23.191Z"
   },
   {
    "duration": 11,
    "start_time": "2022-05-21T16:51:29.975Z"
   },
   {
    "duration": 1856,
    "start_time": "2022-05-21T16:54:35.527Z"
   },
   {
    "duration": 1861,
    "start_time": "2022-05-21T16:55:07.999Z"
   },
   {
    "duration": 2118,
    "start_time": "2022-05-21T16:55:55.185Z"
   },
   {
    "duration": 4436,
    "start_time": "2022-05-21T16:57:01.328Z"
   },
   {
    "duration": 1440,
    "start_time": "2022-05-21T16:57:54.978Z"
   },
   {
    "duration": 1275,
    "start_time": "2022-05-21T16:58:26.750Z"
   },
   {
    "duration": 3,
    "start_time": "2022-05-21T16:59:03.902Z"
   },
   {
    "duration": 115,
    "start_time": "2022-05-21T16:59:03.907Z"
   },
   {
    "duration": 55,
    "start_time": "2022-05-21T16:59:04.024Z"
   },
   {
    "duration": 19,
    "start_time": "2022-05-21T16:59:04.081Z"
   },
   {
    "duration": 21,
    "start_time": "2022-05-21T16:59:04.102Z"
   },
   {
    "duration": 11,
    "start_time": "2022-05-21T16:59:04.124Z"
   },
   {
    "duration": 21,
    "start_time": "2022-05-21T16:59:04.136Z"
   },
   {
    "duration": 37,
    "start_time": "2022-05-21T16:59:04.159Z"
   },
   {
    "duration": 28,
    "start_time": "2022-05-21T16:59:04.199Z"
   },
   {
    "duration": 5,
    "start_time": "2022-05-21T16:59:04.229Z"
   },
   {
    "duration": 679,
    "start_time": "2022-05-21T16:59:04.237Z"
   },
   {
    "duration": 739,
    "start_time": "2022-05-21T16:59:04.917Z"
   },
   {
    "duration": 952,
    "start_time": "2022-05-21T16:59:05.658Z"
   },
   {
    "duration": 25,
    "start_time": "2022-05-21T16:59:06.612Z"
   },
   {
    "duration": 21,
    "start_time": "2022-05-21T16:59:06.639Z"
   },
   {
    "duration": 217,
    "start_time": "2022-05-21T16:59:06.662Z"
   },
   {
    "duration": 207,
    "start_time": "2022-05-21T16:59:06.881Z"
   },
   {
    "duration": 15,
    "start_time": "2022-05-21T16:59:07.094Z"
   },
   {
    "duration": 20,
    "start_time": "2022-05-21T16:59:07.111Z"
   },
   {
    "duration": 21,
    "start_time": "2022-05-21T16:59:07.133Z"
   },
   {
    "duration": 59,
    "start_time": "2022-05-21T16:59:07.156Z"
   },
   {
    "duration": 208,
    "start_time": "2022-05-21T16:59:07.217Z"
   },
   {
    "duration": 24,
    "start_time": "2022-05-21T16:59:07.428Z"
   },
   {
    "duration": 17,
    "start_time": "2022-05-21T16:59:07.455Z"
   },
   {
    "duration": 31,
    "start_time": "2022-05-21T16:59:07.474Z"
   },
   {
    "duration": 1287,
    "start_time": "2022-05-21T16:59:07.507Z"
   },
   {
    "duration": 1263,
    "start_time": "2022-05-21T16:59:21.880Z"
   },
   {
    "duration": 1357,
    "start_time": "2022-05-21T17:02:09.714Z"
   },
   {
    "duration": 1519,
    "start_time": "2022-05-21T17:05:40.778Z"
   },
   {
    "duration": 1210,
    "start_time": "2022-05-21T17:08:49.984Z"
   },
   {
    "duration": 4510,
    "start_time": "2022-05-21T17:37:25.326Z"
   },
   {
    "duration": 1327,
    "start_time": "2022-05-21T17:37:36.569Z"
   },
   {
    "duration": 347,
    "start_time": "2022-05-21T17:38:26.483Z"
   },
   {
    "duration": 48,
    "start_time": "2022-05-21T17:42:53.552Z"
   },
   {
    "duration": 33,
    "start_time": "2022-05-21T17:43:09.232Z"
   },
   {
    "duration": 35,
    "start_time": "2022-05-21T17:43:22.315Z"
   },
   {
    "duration": 11,
    "start_time": "2022-05-21T17:43:53.284Z"
   },
   {
    "duration": 29,
    "start_time": "2022-05-21T17:44:18.566Z"
   },
   {
    "duration": 4,
    "start_time": "2022-05-21T17:45:06.522Z"
   },
   {
    "duration": 31,
    "start_time": "2022-05-21T17:46:39.337Z"
   },
   {
    "duration": 31,
    "start_time": "2022-05-21T17:47:15.077Z"
   },
   {
    "duration": 319,
    "start_time": "2022-05-21T17:47:32.667Z"
   },
   {
    "duration": 46,
    "start_time": "2022-05-21T17:48:17.371Z"
   },
   {
    "duration": 4,
    "start_time": "2022-05-21T17:48:28.784Z"
   },
   {
    "duration": 35,
    "start_time": "2022-05-21T17:48:29.431Z"
   },
   {
    "duration": 4,
    "start_time": "2022-05-21T17:49:09.032Z"
   },
   {
    "duration": 36,
    "start_time": "2022-05-21T17:49:10.681Z"
   },
   {
    "duration": 37,
    "start_time": "2022-05-21T17:50:11.443Z"
   },
   {
    "duration": 38,
    "start_time": "2022-05-21T17:52:50.168Z"
   },
   {
    "duration": 26,
    "start_time": "2022-05-21T17:53:10.631Z"
   },
   {
    "duration": 35,
    "start_time": "2022-05-21T17:53:22.175Z"
   },
   {
    "duration": 390,
    "start_time": "2022-05-21T17:53:34.020Z"
   },
   {
    "duration": 36,
    "start_time": "2022-05-21T17:56:11.433Z"
   },
   {
    "duration": 10,
    "start_time": "2022-05-21T17:56:21.306Z"
   },
   {
    "duration": 28,
    "start_time": "2022-05-21T17:56:40.573Z"
   },
   {
    "duration": 9,
    "start_time": "2022-05-21T17:56:54.227Z"
   },
   {
    "duration": 13,
    "start_time": "2022-05-21T17:57:25.788Z"
   },
   {
    "duration": 12,
    "start_time": "2022-05-21T17:58:26.983Z"
   },
   {
    "duration": 13,
    "start_time": "2022-05-21T17:59:25.590Z"
   },
   {
    "duration": 11,
    "start_time": "2022-05-21T17:59:52.014Z"
   },
   {
    "duration": 12,
    "start_time": "2022-05-21T18:00:05.109Z"
   },
   {
    "duration": 11,
    "start_time": "2022-05-21T18:01:52.940Z"
   },
   {
    "duration": 1724,
    "start_time": "2022-05-21T18:03:37.122Z"
   },
   {
    "duration": 1946,
    "start_time": "2022-05-21T18:04:00.438Z"
   },
   {
    "duration": 1767,
    "start_time": "2022-05-21T18:05:02.820Z"
   },
   {
    "duration": 1827,
    "start_time": "2022-05-21T18:06:06.506Z"
   },
   {
    "duration": 1764,
    "start_time": "2022-05-21T18:08:06.521Z"
   },
   {
    "duration": 2049,
    "start_time": "2022-05-21T18:08:18.013Z"
   },
   {
    "duration": 1492,
    "start_time": "2022-05-21T18:08:26.289Z"
   },
   {
    "duration": 1746,
    "start_time": "2022-05-21T18:08:57.948Z"
   },
   {
    "duration": 1844,
    "start_time": "2022-05-21T18:09:18.418Z"
   },
   {
    "duration": 1529,
    "start_time": "2022-05-21T18:09:25.020Z"
   },
   {
    "duration": 1804,
    "start_time": "2022-05-21T18:09:38.127Z"
   },
   {
    "duration": 1822,
    "start_time": "2022-05-21T18:10:41.923Z"
   },
   {
    "duration": 1842,
    "start_time": "2022-05-21T18:15:48.469Z"
   },
   {
    "duration": 1883,
    "start_time": "2022-05-21T18:18:03.539Z"
   },
   {
    "duration": 15,
    "start_time": "2022-05-21T19:12:37.937Z"
   },
   {
    "duration": 16,
    "start_time": "2022-05-21T19:13:57.451Z"
   },
   {
    "duration": 15,
    "start_time": "2022-05-21T19:20:37.277Z"
   },
   {
    "duration": 3,
    "start_time": "2022-05-21T19:41:04.934Z"
   },
   {
    "duration": 117,
    "start_time": "2022-05-21T19:41:04.940Z"
   },
   {
    "duration": 60,
    "start_time": "2022-05-21T19:41:05.059Z"
   },
   {
    "duration": 13,
    "start_time": "2022-05-21T19:41:05.121Z"
   },
   {
    "duration": 37,
    "start_time": "2022-05-21T19:41:05.136Z"
   },
   {
    "duration": 28,
    "start_time": "2022-05-21T19:41:05.174Z"
   },
   {
    "duration": 27,
    "start_time": "2022-05-21T19:41:05.205Z"
   },
   {
    "duration": 17,
    "start_time": "2022-05-21T19:41:05.237Z"
   },
   {
    "duration": 74,
    "start_time": "2022-05-21T19:41:05.256Z"
   },
   {
    "duration": 8,
    "start_time": "2022-05-21T19:41:05.332Z"
   },
   {
    "duration": 806,
    "start_time": "2022-05-21T19:41:05.344Z"
   },
   {
    "duration": 730,
    "start_time": "2022-05-21T19:41:06.152Z"
   },
   {
    "duration": 845,
    "start_time": "2022-05-21T19:41:06.885Z"
   },
   {
    "duration": 27,
    "start_time": "2022-05-21T19:41:07.732Z"
   },
   {
    "duration": 47,
    "start_time": "2022-05-21T19:41:07.761Z"
   },
   {
    "duration": 214,
    "start_time": "2022-05-21T19:41:07.810Z"
   },
   {
    "duration": 230,
    "start_time": "2022-05-21T19:41:08.026Z"
   },
   {
    "duration": 21,
    "start_time": "2022-05-21T19:41:08.259Z"
   },
   {
    "duration": 28,
    "start_time": "2022-05-21T19:41:08.295Z"
   },
   {
    "duration": 20,
    "start_time": "2022-05-21T19:41:08.325Z"
   },
   {
    "duration": 51,
    "start_time": "2022-05-21T19:41:08.347Z"
   },
   {
    "duration": 182,
    "start_time": "2022-05-21T19:41:08.400Z"
   },
   {
    "duration": 25,
    "start_time": "2022-05-21T19:41:08.584Z"
   },
   {
    "duration": 28,
    "start_time": "2022-05-21T19:41:08.611Z"
   },
   {
    "duration": 16,
    "start_time": "2022-05-21T19:41:08.643Z"
   },
   {
    "duration": 11,
    "start_time": "2022-05-21T19:41:08.661Z"
   },
   {
    "duration": 1912,
    "start_time": "2022-05-21T19:41:08.674Z"
   },
   {
    "duration": 2007,
    "start_time": "2022-05-21T19:41:10.594Z"
   },
   {
    "duration": 2181,
    "start_time": "2022-05-21T19:41:12.605Z"
   },
   {
    "duration": 19,
    "start_time": "2022-05-21T19:41:14.795Z"
   },
   {
    "duration": 15,
    "start_time": "2022-05-21T19:41:14.816Z"
   },
   {
    "duration": 1389,
    "start_time": "2022-05-22T08:08:54.480Z"
   },
   {
    "duration": 379,
    "start_time": "2022-05-22T08:08:55.871Z"
   },
   {
    "duration": 61,
    "start_time": "2022-05-22T08:08:56.253Z"
   },
   {
    "duration": 14,
    "start_time": "2022-05-22T08:08:56.317Z"
   },
   {
    "duration": 24,
    "start_time": "2022-05-22T08:08:56.333Z"
   },
   {
    "duration": 12,
    "start_time": "2022-05-22T08:08:56.359Z"
   },
   {
    "duration": 49,
    "start_time": "2022-05-22T08:08:56.373Z"
   },
   {
    "duration": 12,
    "start_time": "2022-05-22T08:08:56.424Z"
   },
   {
    "duration": 34,
    "start_time": "2022-05-22T08:08:56.437Z"
   },
   {
    "duration": 29,
    "start_time": "2022-05-22T08:08:56.474Z"
   },
   {
    "duration": 718,
    "start_time": "2022-05-22T08:08:56.505Z"
   },
   {
    "duration": 690,
    "start_time": "2022-05-22T08:08:57.225Z"
   },
   {
    "duration": 838,
    "start_time": "2022-05-22T08:08:57.916Z"
   },
   {
    "duration": 24,
    "start_time": "2022-05-22T08:08:58.756Z"
   },
   {
    "duration": 29,
    "start_time": "2022-05-22T08:08:58.781Z"
   },
   {
    "duration": 216,
    "start_time": "2022-05-22T08:08:58.812Z"
   },
   {
    "duration": 212,
    "start_time": "2022-05-22T08:08:59.030Z"
   },
   {
    "duration": 13,
    "start_time": "2022-05-22T08:08:59.244Z"
   },
   {
    "duration": 18,
    "start_time": "2022-05-22T08:08:59.259Z"
   },
   {
    "duration": 38,
    "start_time": "2022-05-22T08:08:59.279Z"
   },
   {
    "duration": 21,
    "start_time": "2022-05-22T08:08:59.319Z"
   },
   {
    "duration": 173,
    "start_time": "2022-05-22T08:08:59.342Z"
   },
   {
    "duration": 26,
    "start_time": "2022-05-22T08:08:59.517Z"
   },
   {
    "duration": 19,
    "start_time": "2022-05-22T08:08:59.545Z"
   },
   {
    "duration": 37,
    "start_time": "2022-05-22T08:08:59.568Z"
   },
   {
    "duration": 12,
    "start_time": "2022-05-22T08:08:59.607Z"
   },
   {
    "duration": 1868,
    "start_time": "2022-05-22T08:08:59.620Z"
   },
   {
    "duration": 1995,
    "start_time": "2022-05-22T08:09:01.492Z"
   },
   {
    "duration": 1500,
    "start_time": "2022-05-22T08:09:03.489Z"
   },
   {
    "duration": 19,
    "start_time": "2022-05-22T08:09:04.991Z"
   },
   {
    "duration": 14,
    "start_time": "2022-05-22T08:09:05.012Z"
   },
   {
    "duration": 4,
    "start_time": "2022-05-22T08:10:51.330Z"
   },
   {
    "duration": 105,
    "start_time": "2022-05-22T08:10:51.336Z"
   },
   {
    "duration": 51,
    "start_time": "2022-05-22T08:10:51.442Z"
   },
   {
    "duration": 11,
    "start_time": "2022-05-22T08:10:51.494Z"
   },
   {
    "duration": 20,
    "start_time": "2022-05-22T08:10:51.506Z"
   },
   {
    "duration": 11,
    "start_time": "2022-05-22T08:10:51.527Z"
   },
   {
    "duration": 19,
    "start_time": "2022-05-22T08:10:51.539Z"
   },
   {
    "duration": 11,
    "start_time": "2022-05-22T08:10:51.559Z"
   },
   {
    "duration": 50,
    "start_time": "2022-05-22T08:10:51.572Z"
   },
   {
    "duration": 4,
    "start_time": "2022-05-22T08:10:51.624Z"
   },
   {
    "duration": 675,
    "start_time": "2022-05-22T08:10:51.630Z"
   },
   {
    "duration": 766,
    "start_time": "2022-05-22T08:10:52.307Z"
   },
   {
    "duration": 707,
    "start_time": "2022-05-22T08:10:53.075Z"
   },
   {
    "duration": 34,
    "start_time": "2022-05-22T08:10:53.783Z"
   },
   {
    "duration": 24,
    "start_time": "2022-05-22T08:10:53.819Z"
   },
   {
    "duration": 221,
    "start_time": "2022-05-22T08:10:53.845Z"
   },
   {
    "duration": 290,
    "start_time": "2022-05-22T08:10:54.068Z"
   },
   {
    "duration": 15,
    "start_time": "2022-05-22T08:10:54.360Z"
   },
   {
    "duration": 37,
    "start_time": "2022-05-22T08:10:54.376Z"
   },
   {
    "duration": 18,
    "start_time": "2022-05-22T08:10:54.414Z"
   },
   {
    "duration": 22,
    "start_time": "2022-05-22T08:10:54.434Z"
   },
   {
    "duration": 199,
    "start_time": "2022-05-22T08:10:54.457Z"
   },
   {
    "duration": 19,
    "start_time": "2022-05-22T08:10:54.658Z"
   },
   {
    "duration": 24,
    "start_time": "2022-05-22T08:10:54.680Z"
   },
   {
    "duration": 13,
    "start_time": "2022-05-22T08:10:54.706Z"
   },
   {
    "duration": 11,
    "start_time": "2022-05-22T08:10:54.721Z"
   },
   {
    "duration": 1822,
    "start_time": "2022-05-22T08:10:54.733Z"
   },
   {
    "duration": 1774,
    "start_time": "2022-05-22T08:10:56.557Z"
   },
   {
    "duration": 1620,
    "start_time": "2022-05-22T08:10:58.333Z"
   },
   {
    "duration": 15,
    "start_time": "2022-05-22T08:10:59.954Z"
   },
   {
    "duration": 13,
    "start_time": "2022-05-22T08:10:59.970Z"
   },
   {
    "duration": 2499,
    "start_time": "2022-05-22T08:55:46.817Z"
   },
   {
    "duration": 126,
    "start_time": "2022-05-22T08:55:49.319Z"
   },
   {
    "duration": 78,
    "start_time": "2022-05-22T08:55:49.447Z"
   },
   {
    "duration": 13,
    "start_time": "2022-05-22T08:55:49.527Z"
   },
   {
    "duration": 52,
    "start_time": "2022-05-22T08:55:49.541Z"
   },
   {
    "duration": 14,
    "start_time": "2022-05-22T08:55:49.598Z"
   },
   {
    "duration": 22,
    "start_time": "2022-05-22T08:55:49.614Z"
   },
   {
    "duration": 31,
    "start_time": "2022-05-22T08:55:49.638Z"
   },
   {
    "duration": 37,
    "start_time": "2022-05-22T08:55:49.674Z"
   },
   {
    "duration": 5,
    "start_time": "2022-05-22T08:55:49.714Z"
   },
   {
    "duration": 881,
    "start_time": "2022-05-22T08:55:49.721Z"
   },
   {
    "duration": 826,
    "start_time": "2022-05-22T08:55:50.604Z"
   },
   {
    "duration": 881,
    "start_time": "2022-05-22T08:55:51.432Z"
   },
   {
    "duration": 26,
    "start_time": "2022-05-22T08:55:52.315Z"
   },
   {
    "duration": 52,
    "start_time": "2022-05-22T08:55:52.342Z"
   },
   {
    "duration": 239,
    "start_time": "2022-05-22T08:55:52.396Z"
   },
   {
    "duration": 222,
    "start_time": "2022-05-22T08:55:52.636Z"
   },
   {
    "duration": 20,
    "start_time": "2022-05-22T08:55:52.866Z"
   },
   {
    "duration": 35,
    "start_time": "2022-05-22T08:55:52.888Z"
   },
   {
    "duration": 20,
    "start_time": "2022-05-22T08:55:52.925Z"
   },
   {
    "duration": 50,
    "start_time": "2022-05-22T08:55:52.947Z"
   },
   {
    "duration": 187,
    "start_time": "2022-05-22T08:55:52.999Z"
   },
   {
    "duration": 23,
    "start_time": "2022-05-22T08:55:53.188Z"
   },
   {
    "duration": 18,
    "start_time": "2022-05-22T08:55:53.213Z"
   },
   {
    "duration": 14,
    "start_time": "2022-05-22T08:55:53.233Z"
   },
   {
    "duration": 40,
    "start_time": "2022-05-22T08:55:53.249Z"
   },
   {
    "duration": 2058,
    "start_time": "2022-05-22T08:55:53.296Z"
   },
   {
    "duration": 2290,
    "start_time": "2022-05-22T08:55:55.358Z"
   },
   {
    "duration": 1847,
    "start_time": "2022-05-22T08:55:57.650Z"
   },
   {
    "duration": 25,
    "start_time": "2022-05-22T08:55:59.499Z"
   },
   {
    "duration": 110,
    "start_time": "2022-05-22T08:55:59.526Z"
   },
   {
    "duration": 9,
    "start_time": "2022-05-22T08:56:08.606Z"
   },
   {
    "duration": 5,
    "start_time": "2022-05-22T08:56:27.452Z"
   },
   {
    "duration": 26,
    "start_time": "2022-05-22T08:56:39.983Z"
   },
   {
    "duration": 46,
    "start_time": "2022-05-22T08:57:19.045Z"
   },
   {
    "duration": 34,
    "start_time": "2022-05-22T08:57:48.144Z"
   },
   {
    "duration": 46,
    "start_time": "2022-05-22T08:58:07.450Z"
   },
   {
    "duration": 1460,
    "start_time": "2022-05-23T10:49:02.854Z"
   },
   {
    "duration": 387,
    "start_time": "2022-05-23T10:49:04.316Z"
   },
   {
    "duration": 52,
    "start_time": "2022-05-23T10:49:04.705Z"
   },
   {
    "duration": 27,
    "start_time": "2022-05-23T10:49:04.758Z"
   },
   {
    "duration": 23,
    "start_time": "2022-05-23T10:49:04.787Z"
   },
   {
    "duration": 10,
    "start_time": "2022-05-23T10:49:04.811Z"
   },
   {
    "duration": 25,
    "start_time": "2022-05-23T10:49:04.822Z"
   },
   {
    "duration": 27,
    "start_time": "2022-05-23T10:49:04.848Z"
   },
   {
    "duration": 29,
    "start_time": "2022-05-23T10:49:04.876Z"
   },
   {
    "duration": 5,
    "start_time": "2022-05-23T10:49:04.907Z"
   },
   {
    "duration": 688,
    "start_time": "2022-05-23T10:49:04.913Z"
   },
   {
    "duration": 596,
    "start_time": "2022-05-23T10:49:05.603Z"
   },
   {
    "duration": 718,
    "start_time": "2022-05-23T10:49:06.201Z"
   },
   {
    "duration": 25,
    "start_time": "2022-05-23T10:49:06.921Z"
   },
   {
    "duration": 33,
    "start_time": "2022-05-23T10:49:06.947Z"
   },
   {
    "duration": 186,
    "start_time": "2022-05-23T10:49:06.981Z"
   },
   {
    "duration": 178,
    "start_time": "2022-05-23T10:49:07.174Z"
   },
   {
    "duration": 20,
    "start_time": "2022-05-23T10:49:07.354Z"
   },
   {
    "duration": 22,
    "start_time": "2022-05-23T10:49:07.376Z"
   },
   {
    "duration": 18,
    "start_time": "2022-05-23T10:49:07.399Z"
   },
   {
    "duration": 21,
    "start_time": "2022-05-23T10:52:03.796Z"
   },
   {
    "duration": 13,
    "start_time": "2022-05-23T10:53:48.382Z"
   },
   {
    "duration": 22,
    "start_time": "2022-05-23T11:00:47.385Z"
   },
   {
    "duration": 23,
    "start_time": "2022-05-23T11:01:22.809Z"
   },
   {
    "duration": 18,
    "start_time": "2022-05-23T11:01:50.468Z"
   },
   {
    "duration": 153,
    "start_time": "2022-05-23T11:06:05.296Z"
   },
   {
    "duration": 4,
    "start_time": "2022-05-23T11:06:42.915Z"
   },
   {
    "duration": 130,
    "start_time": "2022-05-23T11:06:42.922Z"
   },
   {
    "duration": 55,
    "start_time": "2022-05-23T11:06:43.054Z"
   },
   {
    "duration": 13,
    "start_time": "2022-05-23T11:06:43.111Z"
   },
   {
    "duration": 29,
    "start_time": "2022-05-23T11:06:43.126Z"
   },
   {
    "duration": 13,
    "start_time": "2022-05-23T11:06:43.175Z"
   },
   {
    "duration": 24,
    "start_time": "2022-05-23T11:06:43.190Z"
   },
   {
    "duration": 14,
    "start_time": "2022-05-23T11:06:43.216Z"
   },
   {
    "duration": 69,
    "start_time": "2022-05-23T11:06:43.231Z"
   },
   {
    "duration": 6,
    "start_time": "2022-05-23T11:06:43.302Z"
   },
   {
    "duration": 1214,
    "start_time": "2022-05-23T11:06:43.310Z"
   },
   {
    "duration": 816,
    "start_time": "2022-05-23T11:06:44.525Z"
   },
   {
    "duration": 685,
    "start_time": "2022-05-23T11:06:45.343Z"
   },
   {
    "duration": 22,
    "start_time": "2022-05-23T11:06:46.029Z"
   },
   {
    "duration": 35,
    "start_time": "2022-05-23T11:06:46.053Z"
   },
   {
    "duration": 21,
    "start_time": "2022-05-23T11:06:46.090Z"
   },
   {
    "duration": 201,
    "start_time": "2022-05-23T11:06:46.112Z"
   },
   {
    "duration": 314,
    "start_time": "2022-05-23T11:07:43.131Z"
   },
   {
    "duration": 17,
    "start_time": "2022-05-23T11:21:07.067Z"
   },
   {
    "duration": 37,
    "start_time": "2022-05-23T11:22:08.553Z"
   },
   {
    "duration": 126,
    "start_time": "2022-05-23T11:22:18.500Z"
   },
   {
    "duration": 135,
    "start_time": "2022-05-23T11:22:33.184Z"
   },
   {
    "duration": 156,
    "start_time": "2022-05-23T11:23:06.489Z"
   },
   {
    "duration": 46,
    "start_time": "2022-05-23T11:28:22.958Z"
   },
   {
    "duration": 167,
    "start_time": "2022-05-23T11:28:33.301Z"
   },
   {
    "duration": 176,
    "start_time": "2022-05-23T11:29:15.163Z"
   },
   {
    "duration": 3,
    "start_time": "2022-05-23T12:19:44.781Z"
   },
   {
    "duration": 150,
    "start_time": "2022-05-23T12:19:44.786Z"
   },
   {
    "duration": 61,
    "start_time": "2022-05-23T12:19:44.938Z"
   },
   {
    "duration": 12,
    "start_time": "2022-05-23T12:19:45.001Z"
   },
   {
    "duration": 42,
    "start_time": "2022-05-23T12:19:45.015Z"
   },
   {
    "duration": 14,
    "start_time": "2022-05-23T12:19:45.058Z"
   },
   {
    "duration": 33,
    "start_time": "2022-05-23T12:19:45.073Z"
   },
   {
    "duration": 13,
    "start_time": "2022-05-23T12:19:45.107Z"
   },
   {
    "duration": 42,
    "start_time": "2022-05-23T12:19:45.121Z"
   },
   {
    "duration": 5,
    "start_time": "2022-05-23T12:19:45.165Z"
   },
   {
    "duration": 631,
    "start_time": "2022-05-23T12:19:45.172Z"
   },
   {
    "duration": 707,
    "start_time": "2022-05-23T12:19:45.804Z"
   },
   {
    "duration": 641,
    "start_time": "2022-05-23T12:19:46.513Z"
   },
   {
    "duration": 27,
    "start_time": "2022-05-23T12:19:47.155Z"
   },
   {
    "duration": 19,
    "start_time": "2022-05-23T12:19:47.184Z"
   },
   {
    "duration": 187,
    "start_time": "2022-05-23T12:19:47.204Z"
   },
   {
    "duration": 191,
    "start_time": "2022-05-23T12:19:47.393Z"
   },
   {
    "duration": 284,
    "start_time": "2022-05-23T12:20:35.210Z"
   },
   {
    "duration": 176,
    "start_time": "2022-05-23T12:20:54.631Z"
   },
   {
    "duration": 170,
    "start_time": "2022-05-23T12:21:15.711Z"
   },
   {
    "duration": 174,
    "start_time": "2022-05-23T12:21:24.122Z"
   },
   {
    "duration": 175,
    "start_time": "2022-05-23T12:21:34.648Z"
   },
   {
    "duration": 19,
    "start_time": "2022-05-23T12:31:21.452Z"
   },
   {
    "duration": 4,
    "start_time": "2022-05-23T12:37:12.859Z"
   },
   {
    "duration": 144,
    "start_time": "2022-05-23T12:37:12.865Z"
   },
   {
    "duration": 56,
    "start_time": "2022-05-23T12:37:13.012Z"
   },
   {
    "duration": 11,
    "start_time": "2022-05-23T12:37:13.070Z"
   },
   {
    "duration": 36,
    "start_time": "2022-05-23T12:37:13.083Z"
   },
   {
    "duration": 32,
    "start_time": "2022-05-23T12:37:13.121Z"
   },
   {
    "duration": 19,
    "start_time": "2022-05-23T12:37:13.155Z"
   },
   {
    "duration": 11,
    "start_time": "2022-05-23T12:37:13.176Z"
   },
   {
    "duration": 23,
    "start_time": "2022-05-23T12:37:13.189Z"
   },
   {
    "duration": 5,
    "start_time": "2022-05-23T12:37:13.213Z"
   },
   {
    "duration": 607,
    "start_time": "2022-05-23T12:37:13.220Z"
   },
   {
    "duration": 702,
    "start_time": "2022-05-23T12:37:13.828Z"
   },
   {
    "duration": 634,
    "start_time": "2022-05-23T12:37:14.532Z"
   },
   {
    "duration": 25,
    "start_time": "2022-05-23T12:37:15.167Z"
   },
   {
    "duration": 20,
    "start_time": "2022-05-23T12:37:15.194Z"
   },
   {
    "duration": 205,
    "start_time": "2022-05-23T12:37:15.216Z"
   },
   {
    "duration": 184,
    "start_time": "2022-05-23T12:37:15.422Z"
   },
   {
    "duration": 14,
    "start_time": "2022-05-23T12:37:15.607Z"
   },
   {
    "duration": 18,
    "start_time": "2022-05-23T12:37:15.622Z"
   },
   {
    "duration": 39,
    "start_time": "2022-05-23T12:37:15.641Z"
   },
   {
    "duration": 19,
    "start_time": "2022-05-23T12:37:15.681Z"
   },
   {
    "duration": 246,
    "start_time": "2022-05-23T12:37:15.701Z"
   },
   {
    "duration": 27,
    "start_time": "2022-05-23T12:37:15.948Z"
   },
   {
    "duration": 11,
    "start_time": "2022-05-23T12:37:15.976Z"
   },
   {
    "duration": 14,
    "start_time": "2022-05-23T12:39:53.181Z"
   },
   {
    "duration": 11,
    "start_time": "2022-05-23T12:43:10.028Z"
   },
   {
    "duration": 30,
    "start_time": "2022-05-23T12:47:06.301Z"
   },
   {
    "duration": 29,
    "start_time": "2022-05-23T12:49:00.860Z"
   },
   {
    "duration": 28,
    "start_time": "2022-05-23T12:49:51.093Z"
   },
   {
    "duration": 29,
    "start_time": "2022-05-23T12:50:04.741Z"
   },
   {
    "duration": 31,
    "start_time": "2022-05-23T12:50:15.312Z"
   },
   {
    "duration": 31,
    "start_time": "2022-05-23T12:50:31.991Z"
   },
   {
    "duration": 29,
    "start_time": "2022-05-23T12:52:09.250Z"
   },
   {
    "duration": 14,
    "start_time": "2022-05-23T12:57:39.300Z"
   },
   {
    "duration": 19,
    "start_time": "2022-05-23T12:59:48.949Z"
   },
   {
    "duration": 18,
    "start_time": "2022-05-23T12:59:56.829Z"
   },
   {
    "duration": 35,
    "start_time": "2022-05-23T13:02:11.323Z"
   },
   {
    "duration": 17,
    "start_time": "2022-05-23T13:03:06.713Z"
   },
   {
    "duration": 10,
    "start_time": "2022-05-23T13:03:19.659Z"
   },
   {
    "duration": 16,
    "start_time": "2022-05-23T13:03:31.262Z"
   },
   {
    "duration": 14,
    "start_time": "2022-05-23T13:04:10.557Z"
   },
   {
    "duration": 27,
    "start_time": "2022-05-23T13:05:34.174Z"
   },
   {
    "duration": 42,
    "start_time": "2022-05-23T13:06:11.400Z"
   },
   {
    "duration": 28,
    "start_time": "2022-05-23T13:06:22.721Z"
   },
   {
    "duration": 41,
    "start_time": "2022-05-23T13:07:13.561Z"
   },
   {
    "duration": 142,
    "start_time": "2022-05-23T13:44:25.384Z"
   },
   {
    "duration": 24,
    "start_time": "2022-05-23T13:45:07.171Z"
   },
   {
    "duration": 33,
    "start_time": "2022-05-23T13:46:57.692Z"
   },
   {
    "duration": 38,
    "start_time": "2022-05-23T13:48:15.598Z"
   },
   {
    "duration": 34,
    "start_time": "2022-05-23T13:49:25.372Z"
   },
   {
    "duration": 33,
    "start_time": "2022-05-23T13:49:39.177Z"
   },
   {
    "duration": 24,
    "start_time": "2022-05-23T13:50:00.729Z"
   },
   {
    "duration": 18,
    "start_time": "2022-05-23T13:52:12.467Z"
   },
   {
    "duration": 25,
    "start_time": "2022-05-23T13:52:18.539Z"
   },
   {
    "duration": 32,
    "start_time": "2022-05-23T13:53:16.694Z"
   },
   {
    "duration": 25,
    "start_time": "2022-05-23T13:53:33.144Z"
   },
   {
    "duration": 26,
    "start_time": "2022-05-23T13:54:41.326Z"
   },
   {
    "duration": 27,
    "start_time": "2022-05-23T13:54:58.771Z"
   },
   {
    "duration": 26,
    "start_time": "2022-05-23T13:55:23.377Z"
   },
   {
    "duration": 25,
    "start_time": "2022-05-23T13:55:27.529Z"
   },
   {
    "duration": 32,
    "start_time": "2022-05-23T13:57:59.675Z"
   },
   {
    "duration": 38,
    "start_time": "2022-05-23T13:58:42.207Z"
   },
   {
    "duration": 24,
    "start_time": "2022-05-23T14:00:02.505Z"
   },
   {
    "duration": 110,
    "start_time": "2022-05-23T14:02:07.394Z"
   },
   {
    "duration": 92,
    "start_time": "2022-05-23T14:02:18.117Z"
   },
   {
    "duration": 97,
    "start_time": "2022-05-23T14:03:33.779Z"
   },
   {
    "duration": 124,
    "start_time": "2022-05-23T14:16:08.163Z"
   },
   {
    "duration": 111,
    "start_time": "2022-05-23T14:16:33.208Z"
   },
   {
    "duration": 118,
    "start_time": "2022-05-23T14:24:21.157Z"
   },
   {
    "duration": 100,
    "start_time": "2022-05-23T14:25:10.314Z"
   },
   {
    "duration": 24,
    "start_time": "2022-05-23T14:28:08.438Z"
   },
   {
    "duration": 26,
    "start_time": "2022-05-23T14:29:15.959Z"
   },
   {
    "duration": 116,
    "start_time": "2022-05-23T14:29:17.482Z"
   },
   {
    "duration": 16,
    "start_time": "2022-05-23T14:29:38.724Z"
   },
   {
    "duration": 35,
    "start_time": "2022-05-23T14:30:38.426Z"
   },
   {
    "duration": 11,
    "start_time": "2022-05-23T14:30:47.883Z"
   },
   {
    "duration": 5,
    "start_time": "2022-05-23T14:54:35.054Z"
   },
   {
    "duration": 7,
    "start_time": "2022-05-23T14:54:48.384Z"
   },
   {
    "duration": 11,
    "start_time": "2022-05-23T14:55:20.438Z"
   },
   {
    "duration": 11,
    "start_time": "2022-05-23T14:55:27.838Z"
   },
   {
    "duration": 6,
    "start_time": "2022-05-23T14:55:41.398Z"
   },
   {
    "duration": 8,
    "start_time": "2022-05-23T14:56:57.998Z"
   },
   {
    "duration": 10,
    "start_time": "2022-05-23T15:00:24.583Z"
   },
   {
    "duration": 6,
    "start_time": "2022-05-23T15:01:09.555Z"
   },
   {
    "duration": 6,
    "start_time": "2022-05-23T15:01:32.433Z"
   },
   {
    "duration": 2,
    "start_time": "2022-05-23T15:02:47.113Z"
   },
   {
    "duration": 109,
    "start_time": "2022-05-23T15:02:47.117Z"
   },
   {
    "duration": 52,
    "start_time": "2022-05-23T15:02:47.228Z"
   },
   {
    "duration": 14,
    "start_time": "2022-05-23T15:02:47.282Z"
   },
   {
    "duration": 20,
    "start_time": "2022-05-23T15:02:47.298Z"
   },
   {
    "duration": 10,
    "start_time": "2022-05-23T15:02:47.319Z"
   },
   {
    "duration": 45,
    "start_time": "2022-05-23T15:02:47.330Z"
   },
   {
    "duration": 11,
    "start_time": "2022-05-23T15:02:47.376Z"
   },
   {
    "duration": 25,
    "start_time": "2022-05-23T15:02:47.389Z"
   },
   {
    "duration": 5,
    "start_time": "2022-05-23T15:02:47.415Z"
   },
   {
    "duration": 672,
    "start_time": "2022-05-23T15:02:47.422Z"
   },
   {
    "duration": 605,
    "start_time": "2022-05-23T15:02:48.095Z"
   },
   {
    "duration": 753,
    "start_time": "2022-05-23T15:02:48.702Z"
   },
   {
    "duration": 31,
    "start_time": "2022-05-23T15:02:49.457Z"
   },
   {
    "duration": 23,
    "start_time": "2022-05-23T15:02:49.490Z"
   },
   {
    "duration": 209,
    "start_time": "2022-05-23T15:02:49.514Z"
   },
   {
    "duration": 188,
    "start_time": "2022-05-23T15:02:49.724Z"
   },
   {
    "duration": 15,
    "start_time": "2022-05-23T15:02:49.914Z"
   },
   {
    "duration": 25,
    "start_time": "2022-05-23T15:02:49.930Z"
   },
   {
    "duration": 27,
    "start_time": "2022-05-23T15:02:49.957Z"
   },
   {
    "duration": 18,
    "start_time": "2022-05-23T15:02:49.986Z"
   },
   {
    "duration": 156,
    "start_time": "2022-05-23T15:02:50.005Z"
   },
   {
    "duration": 19,
    "start_time": "2022-05-23T15:02:50.163Z"
   },
   {
    "duration": 13,
    "start_time": "2022-05-23T15:02:50.183Z"
   },
   {
    "duration": 36,
    "start_time": "2022-05-23T15:02:50.198Z"
   },
   {
    "duration": 9,
    "start_time": "2022-05-23T15:02:50.236Z"
   },
   {
    "duration": 106,
    "start_time": "2022-05-23T15:02:50.247Z"
   },
   {
    "duration": 7,
    "start_time": "2022-05-23T15:02:50.354Z"
   },
   {
    "duration": 1631,
    "start_time": "2022-05-23T15:02:50.374Z"
   },
   {
    "duration": 1929,
    "start_time": "2022-05-23T15:03:21.660Z"
   },
   {
    "duration": 1423,
    "start_time": "2022-05-23T15:03:33.544Z"
   },
   {
    "duration": 10,
    "start_time": "2022-05-23T15:05:37.978Z"
   },
   {
    "duration": 3,
    "start_time": "2022-05-23T15:05:42.761Z"
   },
   {
    "duration": 123,
    "start_time": "2022-05-23T15:05:42.766Z"
   },
   {
    "duration": 62,
    "start_time": "2022-05-23T15:05:42.892Z"
   },
   {
    "duration": 33,
    "start_time": "2022-05-23T15:05:42.956Z"
   },
   {
    "duration": 25,
    "start_time": "2022-05-23T15:05:42.991Z"
   },
   {
    "duration": 12,
    "start_time": "2022-05-23T15:05:43.018Z"
   },
   {
    "duration": 47,
    "start_time": "2022-05-23T15:05:43.032Z"
   },
   {
    "duration": 10,
    "start_time": "2022-05-23T15:05:43.081Z"
   },
   {
    "duration": 21,
    "start_time": "2022-05-23T15:05:43.093Z"
   },
   {
    "duration": 5,
    "start_time": "2022-05-23T15:05:43.115Z"
   },
   {
    "duration": 628,
    "start_time": "2022-05-23T15:05:43.122Z"
   },
   {
    "duration": 694,
    "start_time": "2022-05-23T15:05:43.751Z"
   },
   {
    "duration": 637,
    "start_time": "2022-05-23T15:05:44.447Z"
   },
   {
    "duration": 22,
    "start_time": "2022-05-23T15:05:45.086Z"
   },
   {
    "duration": 20,
    "start_time": "2022-05-23T15:05:45.109Z"
   },
   {
    "duration": 195,
    "start_time": "2022-05-23T15:05:45.130Z"
   },
   {
    "duration": 327,
    "start_time": "2022-05-23T15:05:45.326Z"
   },
   {
    "duration": 13,
    "start_time": "2022-05-23T15:05:45.654Z"
   },
   {
    "duration": 20,
    "start_time": "2022-05-23T15:05:45.675Z"
   },
   {
    "duration": 16,
    "start_time": "2022-05-23T15:05:45.697Z"
   },
   {
    "duration": 17,
    "start_time": "2022-05-23T15:05:45.714Z"
   },
   {
    "duration": 161,
    "start_time": "2022-05-23T15:05:45.732Z"
   },
   {
    "duration": 17,
    "start_time": "2022-05-23T15:05:45.894Z"
   },
   {
    "duration": 16,
    "start_time": "2022-05-23T15:05:45.913Z"
   },
   {
    "duration": 28,
    "start_time": "2022-05-23T15:05:45.930Z"
   },
   {
    "duration": 31,
    "start_time": "2022-05-23T15:05:45.960Z"
   },
   {
    "duration": 99,
    "start_time": "2022-05-23T15:05:45.992Z"
   },
   {
    "duration": 6,
    "start_time": "2022-05-23T15:05:46.093Z"
   },
   {
    "duration": 1622,
    "start_time": "2022-05-23T15:05:46.102Z"
   },
   {
    "duration": 1618,
    "start_time": "2022-05-23T15:05:47.726Z"
   },
   {
    "duration": 1565,
    "start_time": "2022-05-23T15:05:49.346Z"
   },
   {
    "duration": 9,
    "start_time": "2022-05-23T15:05:50.912Z"
   },
   {
    "duration": 8,
    "start_time": "2022-05-23T15:05:57.087Z"
   },
   {
    "duration": 8,
    "start_time": "2022-05-23T15:06:24.639Z"
   },
   {
    "duration": 10,
    "start_time": "2022-05-23T15:10:05.698Z"
   },
   {
    "duration": 11,
    "start_time": "2022-05-23T15:10:47.483Z"
   },
   {
    "duration": 8,
    "start_time": "2022-05-23T15:12:17.701Z"
   },
   {
    "duration": 8,
    "start_time": "2022-05-23T15:12:34.666Z"
   },
   {
    "duration": 12,
    "start_time": "2022-05-23T15:13:43.963Z"
   },
   {
    "duration": 13,
    "start_time": "2022-05-23T15:15:20.702Z"
   },
   {
    "duration": 3,
    "start_time": "2022-05-23T15:18:43.496Z"
   },
   {
    "duration": 20,
    "start_time": "2022-05-23T15:18:43.501Z"
   },
   {
    "duration": 0,
    "start_time": "2022-05-23T15:18:43.523Z"
   },
   {
    "duration": 0,
    "start_time": "2022-05-23T15:18:43.524Z"
   },
   {
    "duration": 19,
    "start_time": "2022-05-23T15:18:43.546Z"
   },
   {
    "duration": 11,
    "start_time": "2022-05-23T15:18:43.567Z"
   },
   {
    "duration": 24,
    "start_time": "2022-05-23T15:18:43.579Z"
   },
   {
    "duration": 11,
    "start_time": "2022-05-23T15:18:43.605Z"
   },
   {
    "duration": 25,
    "start_time": "2022-05-23T15:18:43.618Z"
   },
   {
    "duration": 27,
    "start_time": "2022-05-23T15:18:43.650Z"
   },
   {
    "duration": 856,
    "start_time": "2022-05-23T15:18:43.679Z"
   },
   {
    "duration": 759,
    "start_time": "2022-05-23T15:18:44.537Z"
   },
   {
    "duration": 681,
    "start_time": "2022-05-23T15:18:45.297Z"
   },
   {
    "duration": 24,
    "start_time": "2022-05-23T15:18:45.980Z"
   },
   {
    "duration": 21,
    "start_time": "2022-05-23T15:18:46.006Z"
   },
   {
    "duration": 204,
    "start_time": "2022-05-23T15:18:46.028Z"
   },
   {
    "duration": 186,
    "start_time": "2022-05-23T15:18:46.233Z"
   },
   {
    "duration": 14,
    "start_time": "2022-05-23T15:18:46.422Z"
   },
   {
    "duration": 38,
    "start_time": "2022-05-23T15:18:46.437Z"
   },
   {
    "duration": 19,
    "start_time": "2022-05-23T15:18:46.477Z"
   },
   {
    "duration": 21,
    "start_time": "2022-05-23T15:18:46.497Z"
   },
   {
    "duration": 176,
    "start_time": "2022-05-23T15:18:46.520Z"
   },
   {
    "duration": 18,
    "start_time": "2022-05-23T15:18:46.698Z"
   },
   {
    "duration": 15,
    "start_time": "2022-05-23T15:18:46.717Z"
   },
   {
    "duration": 45,
    "start_time": "2022-05-23T15:18:46.733Z"
   },
   {
    "duration": 10,
    "start_time": "2022-05-23T15:18:46.780Z"
   },
   {
    "duration": 110,
    "start_time": "2022-05-23T15:18:46.791Z"
   },
   {
    "duration": 8,
    "start_time": "2022-05-23T15:18:46.902Z"
   },
   {
    "duration": 1858,
    "start_time": "2022-05-23T15:18:46.911Z"
   },
   {
    "duration": 1786,
    "start_time": "2022-05-23T15:18:48.771Z"
   },
   {
    "duration": 1559,
    "start_time": "2022-05-23T15:18:50.558Z"
   },
   {
    "duration": 13,
    "start_time": "2022-05-23T15:18:52.119Z"
   },
   {
    "duration": 12,
    "start_time": "2022-05-23T15:18:52.133Z"
   },
   {
    "duration": 1256,
    "start_time": "2022-05-24T05:42:40.113Z"
   },
   {
    "duration": 220,
    "start_time": "2022-05-24T05:42:41.371Z"
   },
   {
    "duration": 72,
    "start_time": "2022-05-24T05:42:42.571Z"
   },
   {
    "duration": 13,
    "start_time": "2022-05-24T05:42:49.336Z"
   },
   {
    "duration": 33,
    "start_time": "2022-05-24T05:42:49.351Z"
   },
   {
    "duration": 17,
    "start_time": "2022-05-24T05:42:49.385Z"
   },
   {
    "duration": 33,
    "start_time": "2022-05-24T05:42:49.404Z"
   },
   {
    "duration": 12,
    "start_time": "2022-05-24T05:42:49.439Z"
   },
   {
    "duration": 47,
    "start_time": "2022-05-24T05:42:49.453Z"
   },
   {
    "duration": 5,
    "start_time": "2022-05-24T05:42:49.501Z"
   },
   {
    "duration": 770,
    "start_time": "2022-05-24T05:42:49.508Z"
   },
   {
    "duration": 627,
    "start_time": "2022-05-24T05:42:50.280Z"
   },
   {
    "duration": 772,
    "start_time": "2022-05-24T05:42:50.909Z"
   },
   {
    "duration": 26,
    "start_time": "2022-05-24T05:42:51.683Z"
   },
   {
    "duration": 31,
    "start_time": "2022-05-24T05:42:51.710Z"
   },
   {
    "duration": 205,
    "start_time": "2022-05-24T05:42:51.743Z"
   },
   {
    "duration": 211,
    "start_time": "2022-05-24T05:42:51.951Z"
   },
   {
    "duration": 15,
    "start_time": "2022-05-24T05:42:52.164Z"
   },
   {
    "duration": 19,
    "start_time": "2022-05-24T05:42:52.181Z"
   },
   {
    "duration": 39,
    "start_time": "2022-05-24T05:42:52.202Z"
   },
   {
    "duration": 22,
    "start_time": "2022-05-24T05:42:52.243Z"
   },
   {
    "duration": 182,
    "start_time": "2022-05-24T05:42:52.267Z"
   },
   {
    "duration": 18,
    "start_time": "2022-05-24T05:42:52.451Z"
   },
   {
    "duration": 12,
    "start_time": "2022-05-24T05:42:52.471Z"
   },
   {
    "duration": 54,
    "start_time": "2022-05-24T05:42:52.485Z"
   },
   {
    "duration": 12,
    "start_time": "2022-05-24T05:42:52.542Z"
   },
   {
    "duration": 132,
    "start_time": "2022-05-24T05:42:52.556Z"
   },
   {
    "duration": 7,
    "start_time": "2022-05-24T05:42:52.690Z"
   },
   {
    "duration": 1717,
    "start_time": "2022-05-24T05:42:52.698Z"
   },
   {
    "duration": 1864,
    "start_time": "2022-05-24T05:42:54.416Z"
   },
   {
    "duration": 1578,
    "start_time": "2022-05-24T05:42:56.282Z"
   },
   {
    "duration": 12,
    "start_time": "2022-05-24T05:42:57.862Z"
   },
   {
    "duration": 12,
    "start_time": "2022-05-24T05:42:57.876Z"
   },
   {
    "duration": 254,
    "start_time": "2022-05-24T05:45:02.699Z"
   },
   {
    "duration": 61,
    "start_time": "2022-05-24T05:46:04.339Z"
   },
   {
    "duration": 77,
    "start_time": "2022-05-24T05:46:56.010Z"
   }
  ],
  "kernelspec": {
   "display_name": "Python 3 (ipykernel)",
   "language": "python",
   "name": "python3"
  },
  "language_info": {
   "codemirror_mode": {
    "name": "ipython",
    "version": 3
   },
   "file_extension": ".py",
   "mimetype": "text/x-python",
   "name": "python",
   "nbconvert_exporter": "python",
   "pygments_lexer": "ipython3",
   "version": "3.9.7"
  },
  "toc": {
   "base_numbering": 1,
   "nav_menu": {},
   "number_sections": false,
   "sideBar": true,
   "skip_h1_title": true,
   "title_cell": "Table of Contents",
   "title_sidebar": "Contents",
   "toc_cell": false,
   "toc_position": {
    "height": "calc(100% - 180px)",
    "left": "10px",
    "top": "150px",
    "width": "165px"
   },
   "toc_section_display": true,
   "toc_window_display": true
  }
 },
 "nbformat": 4,
 "nbformat_minor": 2
}
